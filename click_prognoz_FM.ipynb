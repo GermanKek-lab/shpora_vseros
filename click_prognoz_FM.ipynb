{
 "cells": [
  {
   "cell_type": "markdown",
   "metadata": {},
   "source": [
    "git fastFM - https://github.com/ibayer/fastFM <br>\n",
    "import fastFM conda - https://github.com/ibayer/fastFM/issues/51"
   ]
  },
  {
   "cell_type": "code",
   "execution_count": 5,
   "metadata": {
    "colab": {
     "base_uri": "https://localhost:8080/"
    },
    "id": "d0mSyd_cew7M",
    "outputId": "ffa109a2-6faa-44d2-f555-5e886a106184"
   },
   "outputs": [],
   "source": [
    "# from google.colab import drive\n",
    "# drive.mount('/content/drive')"
   ]
  },
  {
   "cell_type": "code",
   "execution_count": 6,
   "metadata": {
    "colab": {
     "base_uri": "https://localhost:8080/"
    },
    "id": "fA8a91V5ZMj2",
    "outputId": "985c399a-0577-4f6e-866b-3f73466acfa0"
   },
   "outputs": [],
   "source": [
    "# !curl -o /content/drive/MyDrive/click-trough/train.csv.zip -L\n",
    "# !unzip -q /content/drive/MyDrive/click-trough/train.csv.zip"
   ]
  },
  {
   "cell_type": "code",
   "execution_count": 7,
   "metadata": {
    "colab": {
     "base_uri": "https://localhost:8080/"
    },
    "id": "ldzoP7eoetOg",
    "outputId": "81c3cf19-6592-4f08-dff7-8ef0f3db1ef6"
   },
   "outputs": [],
   "source": [
    "# !curl -o /content/drive/MyDrive/click-trough/test.csv.zip -L\n",
    "# !unzip -q /content/drive/MyDrive/click-trough/test.csv.zip"
   ]
  },
  {
   "cell_type": "code",
   "execution_count": 3,
   "metadata": {
    "id": "919VV0K6tl8-"
   },
   "outputs": [],
   "source": [
    "import pandas as pd\n",
    "import numpy as np\n",
    "from tqdm import *"
   ]
  },
  {
   "cell_type": "code",
   "execution_count": 4,
   "metadata": {
    "id": "wQSsB5pRHYci"
   },
   "outputs": [],
   "source": [
    "# train = pd.read_csv('train-2.csv')"
   ]
  },
  {
   "cell_type": "code",
   "execution_count": 5,
   "metadata": {
    "colab": {
     "base_uri": "https://localhost:8080/"
    },
    "id": "MXqHy6sxtvIH",
    "outputId": "fe1e39c1-8353-4962-9590-130959c758fb"
   },
   "outputs": [
    {
     "name": "stderr",
     "output_type": "stream",
     "text": [
      "5it [02:04, 24.85s/it]\n"
     ]
    }
   ],
   "source": [
    "chunksize = 10 ** 7\n",
    "num_of_chunk = 0\n",
    "train = pd.DataFrame()\n",
    "lines = pd.read_csv('train-2.csv', chunksize=chunksize)\n",
    "\n",
    "\n",
    "for chunk in tqdm(lines):\n",
    "    num_of_chunk = num_of_chunk + 1\n",
    "    train = pd.concat([train,chunk.sample(frac=0.01)], axis = 0, ignore_index = True)\n",
    "    # print(f'{str(num_of_chunk)} is done.')\n",
    "train_copy = train.copy()"
   ]
  },
  {
   "cell_type": "code",
   "execution_count": 2,
   "metadata": {},
   "outputs": [
    {
     "ename": "NameError",
     "evalue": "name 'train_copy' is not defined",
     "output_type": "error",
     "traceback": [
      "\u001b[0;31m---------------------------------------------------------------------------\u001b[0m",
      "\u001b[0;31mNameError\u001b[0m                                 Traceback (most recent call last)",
      "Cell \u001b[0;32mIn[2], line 1\u001b[0m\n\u001b[0;32m----> 1\u001b[0m train \u001b[38;5;241m=\u001b[39m \u001b[43mtrain_copy\u001b[49m\u001b[38;5;241m.\u001b[39mcopy()\n",
      "\u001b[0;31mNameError\u001b[0m: name 'train_copy' is not defined"
     ]
    }
   ],
   "source": [
    "train = train_copy.copy()"
   ]
  },
  {
   "cell_type": "code",
   "execution_count": 400,
   "metadata": {
    "id": "UsMrzpTM9Xg5"
   },
   "outputs": [],
   "source": [
    "test = pd.read_csv('test-2.csv')\n",
    "test_copy = test.copy()"
   ]
  },
  {
   "cell_type": "code",
   "execution_count": 401,
   "metadata": {
    "colab": {
     "base_uri": "https://localhost:8080/",
     "height": 253
    },
    "id": "BmTHY2a9w9uj",
    "outputId": "3aef8c7f-e7da-4571-b4b7-38daf6f9c98f"
   },
   "outputs": [
    {
     "data": {
      "text/html": [
       "<div>\n",
       "<style scoped>\n",
       "    .dataframe tbody tr th:only-of-type {\n",
       "        vertical-align: middle;\n",
       "    }\n",
       "\n",
       "    .dataframe tbody tr th {\n",
       "        vertical-align: top;\n",
       "    }\n",
       "\n",
       "    .dataframe thead th {\n",
       "        text-align: right;\n",
       "    }\n",
       "</style>\n",
       "<table border=\"1\" class=\"dataframe\">\n",
       "  <thead>\n",
       "    <tr style=\"text-align: right;\">\n",
       "      <th></th>\n",
       "      <th>id</th>\n",
       "      <th>click</th>\n",
       "      <th>hour</th>\n",
       "      <th>C1</th>\n",
       "      <th>banner_pos</th>\n",
       "      <th>site_id</th>\n",
       "      <th>site_domain</th>\n",
       "      <th>site_category</th>\n",
       "      <th>app_id</th>\n",
       "      <th>app_domain</th>\n",
       "      <th>...</th>\n",
       "      <th>device_type</th>\n",
       "      <th>device_conn_type</th>\n",
       "      <th>C14</th>\n",
       "      <th>C15</th>\n",
       "      <th>C16</th>\n",
       "      <th>C17</th>\n",
       "      <th>C18</th>\n",
       "      <th>C19</th>\n",
       "      <th>C20</th>\n",
       "      <th>C21</th>\n",
       "    </tr>\n",
       "  </thead>\n",
       "  <tbody>\n",
       "    <tr>\n",
       "      <th>0</th>\n",
       "      <td>1.644187e+19</td>\n",
       "      <td>0</td>\n",
       "      <td>14102108</td>\n",
       "      <td>1005</td>\n",
       "      <td>0</td>\n",
       "      <td>26fa1946</td>\n",
       "      <td>e2a5dc06</td>\n",
       "      <td>3e814130</td>\n",
       "      <td>ecad2386</td>\n",
       "      <td>7801e8d9</td>\n",
       "      <td>...</td>\n",
       "      <td>1</td>\n",
       "      <td>0</td>\n",
       "      <td>20366</td>\n",
       "      <td>320</td>\n",
       "      <td>50</td>\n",
       "      <td>2333</td>\n",
       "      <td>0</td>\n",
       "      <td>39</td>\n",
       "      <td>-1</td>\n",
       "      <td>157</td>\n",
       "    </tr>\n",
       "    <tr>\n",
       "      <th>1</th>\n",
       "      <td>9.870590e+18</td>\n",
       "      <td>0</td>\n",
       "      <td>14102219</td>\n",
       "      <td>1005</td>\n",
       "      <td>0</td>\n",
       "      <td>85f751fd</td>\n",
       "      <td>c4e18dd6</td>\n",
       "      <td>50e219e0</td>\n",
       "      <td>450ee916</td>\n",
       "      <td>d9b5648e</td>\n",
       "      <td>...</td>\n",
       "      <td>1</td>\n",
       "      <td>0</td>\n",
       "      <td>21234</td>\n",
       "      <td>320</td>\n",
       "      <td>50</td>\n",
       "      <td>2434</td>\n",
       "      <td>3</td>\n",
       "      <td>163</td>\n",
       "      <td>100088</td>\n",
       "      <td>61</td>\n",
       "    </tr>\n",
       "    <tr>\n",
       "      <th>2</th>\n",
       "      <td>1.595388e+18</td>\n",
       "      <td>0</td>\n",
       "      <td>14102105</td>\n",
       "      <td>1005</td>\n",
       "      <td>1</td>\n",
       "      <td>5b4d2eda</td>\n",
       "      <td>16a36ef3</td>\n",
       "      <td>f028772b</td>\n",
       "      <td>ecad2386</td>\n",
       "      <td>7801e8d9</td>\n",
       "      <td>...</td>\n",
       "      <td>1</td>\n",
       "      <td>0</td>\n",
       "      <td>20006</td>\n",
       "      <td>320</td>\n",
       "      <td>50</td>\n",
       "      <td>2283</td>\n",
       "      <td>0</td>\n",
       "      <td>163</td>\n",
       "      <td>-1</td>\n",
       "      <td>95</td>\n",
       "    </tr>\n",
       "    <tr>\n",
       "      <th>3</th>\n",
       "      <td>1.123640e+19</td>\n",
       "      <td>0</td>\n",
       "      <td>14102107</td>\n",
       "      <td>1005</td>\n",
       "      <td>0</td>\n",
       "      <td>85f751fd</td>\n",
       "      <td>c4e18dd6</td>\n",
       "      <td>50e219e0</td>\n",
       "      <td>e9739828</td>\n",
       "      <td>df32afa9</td>\n",
       "      <td>...</td>\n",
       "      <td>1</td>\n",
       "      <td>0</td>\n",
       "      <td>21660</td>\n",
       "      <td>320</td>\n",
       "      <td>50</td>\n",
       "      <td>2446</td>\n",
       "      <td>3</td>\n",
       "      <td>171</td>\n",
       "      <td>100228</td>\n",
       "      <td>156</td>\n",
       "    </tr>\n",
       "    <tr>\n",
       "      <th>4</th>\n",
       "      <td>6.623077e+18</td>\n",
       "      <td>1</td>\n",
       "      <td>14102110</td>\n",
       "      <td>1005</td>\n",
       "      <td>1</td>\n",
       "      <td>0a742914</td>\n",
       "      <td>510bd839</td>\n",
       "      <td>f028772b</td>\n",
       "      <td>ecad2386</td>\n",
       "      <td>7801e8d9</td>\n",
       "      <td>...</td>\n",
       "      <td>1</td>\n",
       "      <td>0</td>\n",
       "      <td>16208</td>\n",
       "      <td>320</td>\n",
       "      <td>50</td>\n",
       "      <td>1800</td>\n",
       "      <td>3</td>\n",
       "      <td>167</td>\n",
       "      <td>100077</td>\n",
       "      <td>23</td>\n",
       "    </tr>\n",
       "  </tbody>\n",
       "</table>\n",
       "<p>5 rows × 24 columns</p>\n",
       "</div>"
      ],
      "text/plain": [
       "             id  click      hour    C1  banner_pos   site_id site_domain  \\\n",
       "0  1.644187e+19      0  14102108  1005           0  26fa1946    e2a5dc06   \n",
       "1  9.870590e+18      0  14102219  1005           0  85f751fd    c4e18dd6   \n",
       "2  1.595388e+18      0  14102105  1005           1  5b4d2eda    16a36ef3   \n",
       "3  1.123640e+19      0  14102107  1005           0  85f751fd    c4e18dd6   \n",
       "4  6.623077e+18      1  14102110  1005           1  0a742914    510bd839   \n",
       "\n",
       "  site_category    app_id app_domain  ... device_type device_conn_type    C14  \\\n",
       "0      3e814130  ecad2386   7801e8d9  ...           1                0  20366   \n",
       "1      50e219e0  450ee916   d9b5648e  ...           1                0  21234   \n",
       "2      f028772b  ecad2386   7801e8d9  ...           1                0  20006   \n",
       "3      50e219e0  e9739828   df32afa9  ...           1                0  21660   \n",
       "4      f028772b  ecad2386   7801e8d9  ...           1                0  16208   \n",
       "\n",
       "   C15  C16   C17  C18  C19     C20  C21  \n",
       "0  320   50  2333    0   39      -1  157  \n",
       "1  320   50  2434    3  163  100088   61  \n",
       "2  320   50  2283    0  163      -1   95  \n",
       "3  320   50  2446    3  171  100228  156  \n",
       "4  320   50  1800    3  167  100077   23  \n",
       "\n",
       "[5 rows x 24 columns]"
      ]
     },
     "execution_count": 401,
     "metadata": {},
     "output_type": "execute_result"
    }
   ],
   "source": [
    "train.head()"
   ]
  },
  {
   "cell_type": "code",
   "execution_count": 402,
   "metadata": {
    "colab": {
     "base_uri": "https://localhost:8080/"
    },
    "id": "CdZA2tskXILy",
    "outputId": "c5d6fce9-9cee-4196-f180-16f0aeb6f157"
   },
   "outputs": [
    {
     "name": "stdout",
     "output_type": "stream",
     "text": [
      "<class 'pandas.core.frame.DataFrame'>\n",
      "RangeIndex: 404290 entries, 0 to 404289\n",
      "Data columns (total 24 columns):\n",
      " #   Column            Non-Null Count   Dtype  \n",
      "---  ------            --------------   -----  \n",
      " 0   id                404290 non-null  float64\n",
      " 1   click             404290 non-null  int64  \n",
      " 2   hour              404290 non-null  int64  \n",
      " 3   C1                404290 non-null  int64  \n",
      " 4   banner_pos        404290 non-null  int64  \n",
      " 5   site_id           404290 non-null  object \n",
      " 6   site_domain       404290 non-null  object \n",
      " 7   site_category     404290 non-null  object \n",
      " 8   app_id            404290 non-null  object \n",
      " 9   app_domain        404290 non-null  object \n",
      " 10  app_category      404290 non-null  object \n",
      " 11  device_id         404290 non-null  object \n",
      " 12  device_ip         404290 non-null  object \n",
      " 13  device_model      404290 non-null  object \n",
      " 14  device_type       404290 non-null  int64  \n",
      " 15  device_conn_type  404290 non-null  int64  \n",
      " 16  C14               404290 non-null  int64  \n",
      " 17  C15               404290 non-null  int64  \n",
      " 18  C16               404290 non-null  int64  \n",
      " 19  C17               404290 non-null  int64  \n",
      " 20  C18               404290 non-null  int64  \n",
      " 21  C19               404290 non-null  int64  \n",
      " 22  C20               404290 non-null  int64  \n",
      " 23  C21               404290 non-null  int64  \n",
      "dtypes: float64(1), int64(14), object(9)\n",
      "memory usage: 74.0+ MB\n"
     ]
    }
   ],
   "source": [
    "train.info()"
   ]
  },
  {
   "cell_type": "markdown",
   "metadata": {
    "id": "ht27w_u2L4jv"
   },
   "source": [
    "# Предобработка даннных\n"
   ]
  },
  {
   "cell_type": "code",
   "execution_count": 403,
   "metadata": {
    "id": "0AmwOs9LS2M9"
   },
   "outputs": [],
   "source": [
    "from datetime import datetime"
   ]
  },
  {
   "cell_type": "code",
   "execution_count": 404,
   "metadata": {
    "id": "VqYUbMvSVnJG"
   },
   "outputs": [],
   "source": [
    "# num = []\n",
    "# cat = []\n",
    "\n",
    "# for col in (train.columns):\n",
    "#     if train[col].dtype == \"object\":\n",
    "#         cat.append(col)\n",
    "#     else:\n",
    "#         num.append(col)\n",
    "# print(\"num = \", num)\n",
    "# print(\"\\ncat = \", cat)"
   ]
  },
  {
   "cell_type": "code",
   "execution_count": 405,
   "metadata": {
    "id": "kWhNuQLR2BUU"
   },
   "outputs": [],
   "source": [
    "# train = train.drop(['site_id', 'app_id', 'device_id', 'device_ip', 'id', 'device_model'], axis=1)"
   ]
  },
  {
   "cell_type": "code",
   "execution_count": 406,
   "metadata": {
    "id": "_o2QqSEtK4ld"
   },
   "outputs": [],
   "source": [
    "train['hour'] = pd.to_datetime(train['hour'], format = '%y%m%d%H')"
   ]
  },
  {
   "cell_type": "code",
   "execution_count": 407,
   "metadata": {
    "id": "tbwnG_FoOyzy"
   },
   "outputs": [],
   "source": [
    "# year = []\n",
    "# month = []\n",
    "# day = []\n",
    "# hour = []\n",
    "\n",
    "# for item in train['hour'].map(str):\n",
    "#     date_obj = datetime.strptime(item, '%Y-%m-%d %H:%M:%S')\n",
    "\n",
    "\n",
    "#     year.append(date_obj.year)\n",
    "#     month.append(date_obj.month)\n",
    "#     day.append(date_obj.day)\n",
    "#     hour.append(date_obj.hour)\n",
    "\n",
    "# print(len(year))\n",
    "\n",
    "# train.insert(loc=0, column='year', value=year)\n",
    "# train.insert(loc=0, column='month', value=month)\n",
    "# train.insert(loc=0, column='day', value=day)\n",
    "# train.insert(loc=0, column='time', value=hour)"
   ]
  },
  {
   "cell_type": "code",
   "execution_count": 408,
   "metadata": {
    "id": "IHeH0WOfRe7R"
   },
   "outputs": [],
   "source": [
    "def hex_to_int(hex_str):\n",
    "    return int(hex_str, 16)"
   ]
  },
  {
   "cell_type": "code",
   "execution_count": 409,
   "metadata": {
    "id": "slaD_cXYRiV1"
   },
   "outputs": [],
   "source": [
    "# train[\"site_domain\"] = train['site_domain'].apply(hex_to_int)\n",
    "# train[\"app_domain\"] = train['app_domain'].apply(hex_to_int)\n",
    "# train[\"device_id\"] = train['device_id'].apply(hex_to_int)\n",
    "# train[\"device_model\"] = train['device_model'].apply(hex_to_int)\n",
    "# train[\"site_id\"] = train['site_id'].apply(hex_to_int)\n",
    "# train[\"app_id\"] = train['app_id'].apply(hex_to_int)\n",
    "# train[\"device_ip\"] = train['device_ip'].apply(hex_to_int)"
   ]
  },
  {
   "cell_type": "code",
   "execution_count": 410,
   "metadata": {
    "id": "0HjBVhrfOvxs"
   },
   "outputs": [],
   "source": [
    "# train['site_category'] = train['site_category'].astype('category')\n",
    "# train['site_category'] = train['site_category'].cat.codes\n",
    "\n",
    "# train['app_category'] = train['app_category'].astype('category')\n",
    "# train['app_category'] = train['app_category'].cat.codes"
   ]
  },
  {
   "cell_type": "code",
   "execution_count": 411,
   "metadata": {
    "colab": {
     "base_uri": "https://localhost:8080/",
     "height": 423
    },
    "id": "bJfxK8BOLFDN",
    "outputId": "0ef90626-5072-44ba-a83a-187c49743627"
   },
   "outputs": [
    {
     "name": "stdout",
     "output_type": "stream",
     "text": [
      "<class 'pandas.core.frame.DataFrame'>\n",
      "RangeIndex: 404290 entries, 0 to 404289\n",
      "Data columns (total 24 columns):\n",
      " #   Column            Non-Null Count   Dtype         \n",
      "---  ------            --------------   -----         \n",
      " 0   id                404290 non-null  float64       \n",
      " 1   click             404290 non-null  int64         \n",
      " 2   hour              404290 non-null  datetime64[ns]\n",
      " 3   C1                404290 non-null  int64         \n",
      " 4   banner_pos        404290 non-null  int64         \n",
      " 5   site_id           404290 non-null  int64         \n",
      " 6   site_domain       404290 non-null  int64         \n",
      " 7   site_category     404290 non-null  int8          \n",
      " 8   app_id            404290 non-null  int64         \n",
      " 9   app_domain        404290 non-null  int64         \n",
      " 10  app_category      404290 non-null  int8          \n",
      " 11  device_id         404290 non-null  int64         \n",
      " 12  device_ip         404290 non-null  int64         \n",
      " 13  device_model      404290 non-null  int64         \n",
      " 14  device_type       404290 non-null  int64         \n",
      " 15  device_conn_type  404290 non-null  int64         \n",
      " 16  C14               404290 non-null  int64         \n",
      " 17  C15               404290 non-null  int64         \n",
      " 18  C16               404290 non-null  int64         \n",
      " 19  C17               404290 non-null  int64         \n",
      " 20  C18               404290 non-null  int64         \n",
      " 21  C19               404290 non-null  int64         \n",
      " 22  C20               404290 non-null  int64         \n",
      " 23  C21               404290 non-null  int64         \n",
      "dtypes: datetime64[ns](1), float64(1), int64(20), int8(2)\n",
      "memory usage: 68.6 MB\n"
     ]
    }
   ],
   "source": [
    "train.info()"
   ]
  },
  {
   "cell_type": "markdown",
   "metadata": {
    "id": "JtqZKr7nFIPg"
   },
   "source": [
    "# Визуалищация и анализ данных\n"
   ]
  },
  {
   "cell_type": "code",
   "execution_count": 412,
   "metadata": {
    "id": "aQR-iWXTFFaq"
   },
   "outputs": [],
   "source": [
    "import matplotlib.pyplot as plt\n",
    "import seaborn as sns\n",
    "%matplotlib inline"
   ]
  },
  {
   "cell_type": "code",
   "execution_count": 413,
   "metadata": {
    "colab": {
     "base_uri": "https://localhost:8080/",
     "height": 508
    },
    "id": "37gwk-uEFXnO",
    "outputId": "da4c062a-75be-4090-e76a-b865d9010d2b"
   },
   "outputs": [
    {
     "data": {
      "text/plain": [
       "([<matplotlib.patches.Wedge at 0x7f975cd37af0>,\n",
       "  <matplotlib.patches.Wedge at 0x7f975cd37a30>],\n",
       " [Text(-0.9472611017032341, 0.5591926369329047, '0'),\n",
       "  Text(0.9472611540586231, -0.5591925482439173, '1')],\n",
       " [Text(-0.5166878736563094, 0.3050141655997662, '83%'),\n",
       "  Text(0.5166879022137943, -0.3050141172239549, '17%')])"
      ]
     },
     "execution_count": 413,
     "metadata": {},
     "output_type": "execute_result"
    },
    {
     "data": {
      "image/png": "[encoded data removed]",
      "text/plain": [
       "<Figure size 2000x1500 with 1 Axes>"
      ]
     },
     "metadata": {},
     "output_type": "display_data"
    }
   ],
   "source": [
    "click = np.array([len(train.loc[train['click'] == 0]), len(train.loc[train['click'] == 1])])\n",
    "plt.pie(click, labels=['0', '1'], autopct='%.0f%%')"
   ]
  },
  {
   "cell_type": "code",
   "execution_count": 414,
   "metadata": {
    "colab": {
     "base_uri": "https://localhost:8080/",
     "height": 465
    },
    "id": "51xdxjOT7KeZ",
    "outputId": "4ada23ee-661f-4119-8fb7-abc2055f8c50"
   },
   "outputs": [
    {
     "data": {
      "text/plain": [
       "<Axes: xlabel='banner_pos', ylabel='count'>"
      ]
     },
     "execution_count": 414,
     "metadata": {},
     "output_type": "execute_result"
    },
    {
     "data": {
      "image/png": "[encoded data removed]",
      "text/plain": [
       "<Figure size 1500x1000 with 1 Axes>"
      ]
     },
     "metadata": {},
     "output_type": "display_data"
    }
   ],
   "source": [
    "plt.figure(figsize=(15,10))\n",
    "sns.countplot(x='banner_pos',hue='click',data=train)"
   ]
  },
  {
   "cell_type": "code",
   "execution_count": 415,
   "metadata": {
    "colab": {
     "base_uri": "https://localhost:8080/",
     "height": 420
    },
    "id": "lyTKItjt7L54",
    "outputId": "d8396cf1-b2ff-4f37-e6c0-5e9d525a5271"
   },
   "outputs": [
    {
     "data": {
      "text/plain": [
       "<Axes: xlabel='hour', ylabel='count'>"
      ]
     },
     "execution_count": 415,
     "metadata": {},
     "output_type": "execute_result"
    },
    {
     "data": {
      "image/png": "[encoded data removed]",
      "text/plain": [
       "<Figure size 1500x1000 with 1 Axes>"
      ]
     },
     "metadata": {},
     "output_type": "display_data"
    }
   ],
   "source": [
    "plt.figure(figsize=(15,10))\n",
    "sns.countplot(x='hour',hue='click',data=train)"
   ]
  },
  {
   "cell_type": "code",
   "execution_count": 416,
   "metadata": {
    "colab": {
     "base_uri": "https://localhost:8080/",
     "height": 225
    },
    "id": "6mAGEkRx-ssf",
    "outputId": "a56e7245-87e2-4dac-e21b-4ebabb840775"
   },
   "outputs": [
    {
     "data": {
      "text/plain": [
       "<Axes: xlabel='hour', ylabel='count'>"
      ]
     },
     "execution_count": 416,
     "metadata": {},
     "output_type": "execute_result"
    },
    {
     "data": {
      "image/png": "[encoded data removed]",
      "text/plain": [
       "<Figure size 7000x2000 with 1 Axes>"
      ]
     },
     "metadata": {},
     "output_type": "display_data"
    }
   ],
   "source": [
    "data_2014 = train[train['hour'] < '2014-10-22']\n",
    "plt.figure(figsize=(70,20))\n",
    "sns.countplot(x='hour',hue='click',data=data_2014)"
   ]
  },
  {
   "cell_type": "code",
   "execution_count": 417,
   "metadata": {
    "id": "1VVUCapy7SDZ"
   },
   "outputs": [],
   "source": [
    "train = train.drop(['hour'], axis=1)"
   ]
  },
  {
   "cell_type": "code",
   "execution_count": 418,
   "metadata": {
    "id": "JOFA-Xxx-3Od"
   },
   "outputs": [],
   "source": [
    "# num = []\n",
    "# cat = []\n",
    "\n",
    "# for col in (train.columns):\n",
    "#     if train[col].dtype == \"object\" or col =='id':\n",
    "#         cat.append(col)\n",
    "#     else:\n",
    "#         num.append(col)\n",
    "# print(\"num = \", num)\n",
    "# print(\"\\ncat = \", cat)"
   ]
  },
  {
   "cell_type": "code",
   "execution_count": 419,
   "metadata": {
    "colab": {
     "base_uri": "https://localhost:8080/"
    },
    "id": "mvOVwYpy_J1G",
    "outputId": "021aa178-7b08-486f-a3a2-c335042337c5"
   },
   "outputs": [],
   "source": [
    "# num = []\n",
    "# cat = []\n",
    "# target_col = 'click'\n",
    "\n",
    "# for col in (train.columns):\n",
    "#     if col != 'click':\n",
    "#         if 'C' in col and col != 'C1':\n",
    "#             num.append(col)\n",
    "#         else:\n",
    "#             cat.append(col)\n",
    "\n",
    "# print('num =', num)\n",
    "# print('cat =', cat)"
   ]
  },
  {
   "cell_type": "code",
   "execution_count": 420,
   "metadata": {},
   "outputs": [],
   "source": [
    "# #do one hot coding for some low cardinality columns first\n",
    "# from sklearn.preprocessing import OneHotEncoder\n",
    "\n",
    "# low_card_cols = ['banner_pos', 'device_conn_type','C15','C16','C18']\n",
    "# ohe = OneHotEncoder(sparse=False, handle_unknown='ignore')\n",
    "# X_train_mid = ohe.fit_transform(train[low_card_cols])\n",
    "# X_test_mid = ohe.transform(test[low_card_cols])"
   ]
  },
  {
   "cell_type": "code",
   "execution_count": 421,
   "metadata": {},
   "outputs": [],
   "source": [
    "# #target encoder\n",
    "# #train and fit a target encoder\n",
    "# #to solve the high cardinality problem within the data\n",
    "# from category_encoders import TargetEncoder\n",
    "# target_encoder = TargetEncoder()\n",
    "# high_card_cols = ['site_id', 'site_domain','site_category','app_id','app_domain',\n",
    "# 'app_category','device_id','device_ip','device_model','C17','C19','time']\n",
    "# X_train_target = target_encoder.fit_transform(X_train[high_card_cols], y_train)\n",
    "# X_test_target = target_encoder.transform(X_test[high_card_cols])"
   ]
  },
  {
   "cell_type": "code",
   "execution_count": 422,
   "metadata": {
    "id": "9Z0HbQuQ7T6P"
   },
   "outputs": [],
   "source": [
    "# from sklearn.preprocessing import StandardScaler, LabelEncoder, MinMaxScaler\n",
    "# # scaler = MinMaxScaler(feature_range=(0,1))\n",
    "# scaler = StandardScaler()\n",
    "# encoder = LabelEncoder()"
   ]
  },
  {
   "cell_type": "code",
   "execution_count": 423,
   "metadata": {},
   "outputs": [],
   "source": [
    "# encoder.fit(train)"
   ]
  },
  {
   "cell_type": "code",
   "execution_count": 424,
   "metadata": {
    "id": "F-lNVCJN7Yaq"
   },
   "outputs": [],
   "source": [
    "# for feat in cat:\n",
    "#     train[feat] = encoder.transform(train[feat])\n",
    "# train[num] = scaler.fit_transform(train[num], train[target_col])"
   ]
  },
  {
   "cell_type": "code",
   "execution_count": 425,
   "metadata": {},
   "outputs": [],
   "source": [
    "# from sklearn.preprocessing import OneHotEncoder, StandardScaler\n",
    "# from sklearn.compose import ColumnTransformer\n",
    "# from sklearn.pipeline import Pipeline"
   ]
  },
  {
   "cell_type": "code",
   "execution_count": 426,
   "metadata": {},
   "outputs": [],
   "source": [
    "# cat_encoder = OneHotEncoder(handle_unknown='ignore', sparse=False)\n",
    "\n",
    "# # Инициализация масштабировщика для числовых признаков\n",
    "# num_scaler = StandardScaler()\n",
    "\n",
    "# # Создание ColumnTransformer для применения разных преобразований к разным типам столбцов\n",
    "# preprocessor = ColumnTransformer(\n",
    "#     transformers=[\n",
    "#         ('cat', cat_encoder, cat),\n",
    "#         ('num', num_scaler, num)\n",
    "#     ])\n",
    "\n",
    "# # Создание пайплайна для объединения кодировщика и масштабировщика\n",
    "# pipeline = Pipeline([\n",
    "#     ('preprocessor', preprocessor)\n",
    "# ])"
   ]
  },
  {
   "cell_type": "code",
   "execution_count": 427,
   "metadata": {},
   "outputs": [],
   "source": [
    "# pipeline.fit(train)\n",
    "\n",
    "# # Применение пайплайна к обучающим и тестовым данным\n",
    "# X_train_transformed = pipeline.transform(train)\n",
    "# X_test_transformed = pipeline.transform(test)"
   ]
  },
  {
   "cell_type": "code",
   "execution_count": 428,
   "metadata": {
    "colab": {
     "base_uri": "https://localhost:8080/",
     "height": 253
    },
    "id": "_-U4VXGi_iGM",
    "outputId": "caab810c-01cc-4caf-a6e4-631211a5d194"
   },
   "outputs": [
    {
     "data": {
      "text/html": [
       "<div>\n",
       "<style scoped>\n",
       "    .dataframe tbody tr th:only-of-type {\n",
       "        vertical-align: middle;\n",
       "    }\n",
       "\n",
       "    .dataframe tbody tr th {\n",
       "        vertical-align: top;\n",
       "    }\n",
       "\n",
       "    .dataframe thead th {\n",
       "        text-align: right;\n",
       "    }\n",
       "</style>\n",
       "<table border=\"1\" class=\"dataframe\">\n",
       "  <thead>\n",
       "    <tr style=\"text-align: right;\">\n",
       "      <th></th>\n",
       "      <th>id</th>\n",
       "      <th>click</th>\n",
       "      <th>C1</th>\n",
       "      <th>banner_pos</th>\n",
       "      <th>site_id</th>\n",
       "      <th>site_domain</th>\n",
       "      <th>site_category</th>\n",
       "      <th>app_id</th>\n",
       "      <th>app_domain</th>\n",
       "      <th>app_category</th>\n",
       "      <th>...</th>\n",
       "      <th>device_type</th>\n",
       "      <th>device_conn_type</th>\n",
       "      <th>C14</th>\n",
       "      <th>C15</th>\n",
       "      <th>C16</th>\n",
       "      <th>C17</th>\n",
       "      <th>C18</th>\n",
       "      <th>C19</th>\n",
       "      <th>C20</th>\n",
       "      <th>C21</th>\n",
       "    </tr>\n",
       "  </thead>\n",
       "  <tbody>\n",
       "    <tr>\n",
       "      <th>0</th>\n",
       "      <td>1.644187e+19</td>\n",
       "      <td>0</td>\n",
       "      <td>1005</td>\n",
       "      <td>0</td>\n",
       "      <td>653924678</td>\n",
       "      <td>3802520582</td>\n",
       "      <td>3</td>\n",
       "      <td>3970769798</td>\n",
       "      <td>2013391065</td>\n",
       "      <td>0</td>\n",
       "      <td>...</td>\n",
       "      <td>1</td>\n",
       "      <td>0</td>\n",
       "      <td>20366</td>\n",
       "      <td>320</td>\n",
       "      <td>50</td>\n",
       "      <td>2333</td>\n",
       "      <td>0</td>\n",
       "      <td>39</td>\n",
       "      <td>-1</td>\n",
       "      <td>157</td>\n",
       "    </tr>\n",
       "    <tr>\n",
       "      <th>1</th>\n",
       "      <td>9.870590e+18</td>\n",
       "      <td>0</td>\n",
       "      <td>1005</td>\n",
       "      <td>0</td>\n",
       "      <td>2247578109</td>\n",
       "      <td>3303116246</td>\n",
       "      <td>5</td>\n",
       "      <td>1158605078</td>\n",
       "      <td>3652543630</td>\n",
       "      <td>3</td>\n",
       "      <td>...</td>\n",
       "      <td>1</td>\n",
       "      <td>0</td>\n",
       "      <td>21234</td>\n",
       "      <td>320</td>\n",
       "      <td>50</td>\n",
       "      <td>2434</td>\n",
       "      <td>3</td>\n",
       "      <td>163</td>\n",
       "      <td>100088</td>\n",
       "      <td>61</td>\n",
       "    </tr>\n",
       "    <tr>\n",
       "      <th>2</th>\n",
       "      <td>1.595388e+18</td>\n",
       "      <td>0</td>\n",
       "      <td>1005</td>\n",
       "      <td>1</td>\n",
       "      <td>1531784922</td>\n",
       "      <td>379809523</td>\n",
       "      <td>18</td>\n",
       "      <td>3970769798</td>\n",
       "      <td>2013391065</td>\n",
       "      <td>0</td>\n",
       "      <td>...</td>\n",
       "      <td>1</td>\n",
       "      <td>0</td>\n",
       "      <td>20006</td>\n",
       "      <td>320</td>\n",
       "      <td>50</td>\n",
       "      <td>2283</td>\n",
       "      <td>0</td>\n",
       "      <td>163</td>\n",
       "      <td>-1</td>\n",
       "      <td>95</td>\n",
       "    </tr>\n",
       "    <tr>\n",
       "      <th>3</th>\n",
       "      <td>1.123640e+19</td>\n",
       "      <td>0</td>\n",
       "      <td>1005</td>\n",
       "      <td>0</td>\n",
       "      <td>2247578109</td>\n",
       "      <td>3303116246</td>\n",
       "      <td>5</td>\n",
       "      <td>3916666920</td>\n",
       "      <td>3744640937</td>\n",
       "      <td>20</td>\n",
       "      <td>...</td>\n",
       "      <td>1</td>\n",
       "      <td>0</td>\n",
       "      <td>21660</td>\n",
       "      <td>320</td>\n",
       "      <td>50</td>\n",
       "      <td>2446</td>\n",
       "      <td>3</td>\n",
       "      <td>171</td>\n",
       "      <td>100228</td>\n",
       "      <td>156</td>\n",
       "    </tr>\n",
       "    <tr>\n",
       "      <th>4</th>\n",
       "      <td>6.623077e+18</td>\n",
       "      <td>1</td>\n",
       "      <td>1005</td>\n",
       "      <td>1</td>\n",
       "      <td>175384852</td>\n",
       "      <td>1359730745</td>\n",
       "      <td>18</td>\n",
       "      <td>3970769798</td>\n",
       "      <td>2013391065</td>\n",
       "      <td>0</td>\n",
       "      <td>...</td>\n",
       "      <td>1</td>\n",
       "      <td>0</td>\n",
       "      <td>16208</td>\n",
       "      <td>320</td>\n",
       "      <td>50</td>\n",
       "      <td>1800</td>\n",
       "      <td>3</td>\n",
       "      <td>167</td>\n",
       "      <td>100077</td>\n",
       "      <td>23</td>\n",
       "    </tr>\n",
       "  </tbody>\n",
       "</table>\n",
       "<p>5 rows × 23 columns</p>\n",
       "</div>"
      ],
      "text/plain": [
       "             id  click    C1  banner_pos     site_id  site_domain  \\\n",
       "0  1.644187e+19      0  1005           0   653924678   3802520582   \n",
       "1  9.870590e+18      0  1005           0  2247578109   3303116246   \n",
       "2  1.595388e+18      0  1005           1  1531784922    379809523   \n",
       "3  1.123640e+19      0  1005           0  2247578109   3303116246   \n",
       "4  6.623077e+18      1  1005           1   175384852   1359730745   \n",
       "\n",
       "   site_category      app_id  app_domain  app_category  ...  device_type  \\\n",
       "0              3  3970769798  2013391065             0  ...            1   \n",
       "1              5  1158605078  3652543630             3  ...            1   \n",
       "2             18  3970769798  2013391065             0  ...            1   \n",
       "3              5  3916666920  3744640937            20  ...            1   \n",
       "4             18  3970769798  2013391065             0  ...            1   \n",
       "\n",
       "   device_conn_type    C14  C15  C16   C17  C18  C19     C20  C21  \n",
       "0                 0  20366  320   50  2333    0   39      -1  157  \n",
       "1                 0  21234  320   50  2434    3  163  100088   61  \n",
       "2                 0  20006  320   50  2283    0  163      -1   95  \n",
       "3                 0  21660  320   50  2446    3  171  100228  156  \n",
       "4                 0  16208  320   50  1800    3  167  100077   23  \n",
       "\n",
       "[5 rows x 23 columns]"
      ]
     },
     "execution_count": 428,
     "metadata": {},
     "output_type": "execute_result"
    }
   ],
   "source": [
    "train.head()"
   ]
  },
  {
   "cell_type": "code",
   "execution_count": 429,
   "metadata": {
    "colab": {
     "base_uri": "https://localhost:8080/",
     "height": 580
    },
    "id": "28WhZsFlANHE",
    "outputId": "1e59d923-78af-4619-f612-ab781fb9669a"
   },
   "outputs": [
    {
     "data": {
      "text/html": [
       "<div>\n",
       "<style scoped>\n",
       "    .dataframe tbody tr th:only-of-type {\n",
       "        vertical-align: middle;\n",
       "    }\n",
       "\n",
       "    .dataframe tbody tr th {\n",
       "        vertical-align: top;\n",
       "    }\n",
       "\n",
       "    .dataframe thead th {\n",
       "        text-align: right;\n",
       "    }\n",
       "</style>\n",
       "<table border=\"1\" class=\"dataframe\">\n",
       "  <thead>\n",
       "    <tr style=\"text-align: right;\">\n",
       "      <th></th>\n",
       "      <th>id</th>\n",
       "      <th>click</th>\n",
       "      <th>C1</th>\n",
       "      <th>banner_pos</th>\n",
       "      <th>site_id</th>\n",
       "      <th>site_domain</th>\n",
       "      <th>site_category</th>\n",
       "      <th>app_id</th>\n",
       "      <th>app_domain</th>\n",
       "      <th>app_category</th>\n",
       "      <th>...</th>\n",
       "      <th>device_type</th>\n",
       "      <th>device_conn_type</th>\n",
       "      <th>C14</th>\n",
       "      <th>C15</th>\n",
       "      <th>C16</th>\n",
       "      <th>C17</th>\n",
       "      <th>C18</th>\n",
       "      <th>C19</th>\n",
       "      <th>C20</th>\n",
       "      <th>C21</th>\n",
       "    </tr>\n",
       "  </thead>\n",
       "  <tbody>\n",
       "    <tr>\n",
       "      <th>id</th>\n",
       "      <td>1.000000</td>\n",
       "      <td>-0.000228</td>\n",
       "      <td>-0.000398</td>\n",
       "      <td>-0.000584</td>\n",
       "      <td>0.003792</td>\n",
       "      <td>0.001408</td>\n",
       "      <td>0.000374</td>\n",
       "      <td>-0.002471</td>\n",
       "      <td>0.002724</td>\n",
       "      <td>0.001415</td>\n",
       "      <td>...</td>\n",
       "      <td>-0.000426</td>\n",
       "      <td>0.002063</td>\n",
       "      <td>-0.000277</td>\n",
       "      <td>-0.000565</td>\n",
       "      <td>-0.001412</td>\n",
       "      <td>-0.000366</td>\n",
       "      <td>-0.000183</td>\n",
       "      <td>0.002952</td>\n",
       "      <td>-0.000639</td>\n",
       "      <td>-0.000708</td>\n",
       "    </tr>\n",
       "    <tr>\n",
       "      <th>click</th>\n",
       "      <td>-0.000228</td>\n",
       "      <td>1.000000</td>\n",
       "      <td>-0.037150</td>\n",
       "      <td>0.025028</td>\n",
       "      <td>-0.007384</td>\n",
       "      <td>-0.036259</td>\n",
       "      <td>-0.006841</td>\n",
       "      <td>0.069100</td>\n",
       "      <td>-0.003514</td>\n",
       "      <td>-0.048846</td>\n",
       "      <td>...</td>\n",
       "      <td>-0.038963</td>\n",
       "      <td>-0.083810</td>\n",
       "      <td>-0.058897</td>\n",
       "      <td>-0.032547</td>\n",
       "      <td>0.132519</td>\n",
       "      <td>-0.054207</td>\n",
       "      <td>0.020315</td>\n",
       "      <td>-0.002608</td>\n",
       "      <td>-0.054726</td>\n",
       "      <td>-0.068991</td>\n",
       "    </tr>\n",
       "    <tr>\n",
       "      <th>C1</th>\n",
       "      <td>-0.000398</td>\n",
       "      <td>-0.037150</td>\n",
       "      <td>1.000000</td>\n",
       "      <td>0.288836</td>\n",
       "      <td>0.001556</td>\n",
       "      <td>0.118667</td>\n",
       "      <td>0.031371</td>\n",
       "      <td>-0.220665</td>\n",
       "      <td>-0.004400</td>\n",
       "      <td>0.092810</td>\n",
       "      <td>...</td>\n",
       "      <td>0.895958</td>\n",
       "      <td>0.198031</td>\n",
       "      <td>0.055173</td>\n",
       "      <td>0.118965</td>\n",
       "      <td>0.063395</td>\n",
       "      <td>0.064389</td>\n",
       "      <td>-0.040343</td>\n",
       "      <td>0.002944</td>\n",
       "      <td>-0.035807</td>\n",
       "      <td>0.034997</td>\n",
       "    </tr>\n",
       "    <tr>\n",
       "      <th>banner_pos</th>\n",
       "      <td>-0.000584</td>\n",
       "      <td>0.025028</td>\n",
       "      <td>0.288836</td>\n",
       "      <td>1.000000</td>\n",
       "      <td>0.291479</td>\n",
       "      <td>-0.414419</td>\n",
       "      <td>0.532049</td>\n",
       "      <td>0.138395</td>\n",
       "      <td>0.058831</td>\n",
       "      <td>-0.223686</td>\n",
       "      <td>...</td>\n",
       "      <td>0.322602</td>\n",
       "      <td>-0.083380</td>\n",
       "      <td>-0.014893</td>\n",
       "      <td>0.061270</td>\n",
       "      <td>0.022299</td>\n",
       "      <td>-0.034633</td>\n",
       "      <td>0.095575</td>\n",
       "      <td>0.131630</td>\n",
       "      <td>0.057581</td>\n",
       "      <td>-0.097563</td>\n",
       "    </tr>\n",
       "    <tr>\n",
       "      <th>site_id</th>\n",
       "      <td>0.003792</td>\n",
       "      <td>-0.007384</td>\n",
       "      <td>0.001556</td>\n",
       "      <td>0.291479</td>\n",
       "      <td>1.000000</td>\n",
       "      <td>-0.254806</td>\n",
       "      <td>0.407245</td>\n",
       "      <td>-0.094051</td>\n",
       "      <td>-0.028472</td>\n",
       "      <td>0.086736</td>\n",
       "      <td>...</td>\n",
       "      <td>0.005037</td>\n",
       "      <td>0.040197</td>\n",
       "      <td>-0.015257</td>\n",
       "      <td>0.004202</td>\n",
       "      <td>-0.042110</td>\n",
       "      <td>-0.014275</td>\n",
       "      <td>0.302692</td>\n",
       "      <td>0.061751</td>\n",
       "      <td>0.076074</td>\n",
       "      <td>-0.155942</td>\n",
       "    </tr>\n",
       "    <tr>\n",
       "      <th>site_domain</th>\n",
       "      <td>0.001408</td>\n",
       "      <td>-0.036259</td>\n",
       "      <td>0.118667</td>\n",
       "      <td>-0.414419</td>\n",
       "      <td>-0.254806</td>\n",
       "      <td>1.000000</td>\n",
       "      <td>-0.590871</td>\n",
       "      <td>-0.229413</td>\n",
       "      <td>-0.069449</td>\n",
       "      <td>0.211571</td>\n",
       "      <td>...</td>\n",
       "      <td>0.104176</td>\n",
       "      <td>0.150063</td>\n",
       "      <td>0.016108</td>\n",
       "      <td>0.062409</td>\n",
       "      <td>-0.130832</td>\n",
       "      <td>0.037436</td>\n",
       "      <td>-0.187116</td>\n",
       "      <td>-0.027651</td>\n",
       "      <td>-0.075684</td>\n",
       "      <td>0.126457</td>\n",
       "    </tr>\n",
       "    <tr>\n",
       "      <th>site_category</th>\n",
       "      <td>0.000374</td>\n",
       "      <td>-0.006841</td>\n",
       "      <td>0.031371</td>\n",
       "      <td>0.532049</td>\n",
       "      <td>0.407245</td>\n",
       "      <td>-0.590871</td>\n",
       "      <td>1.000000</td>\n",
       "      <td>0.251346</td>\n",
       "      <td>0.076089</td>\n",
       "      <td>-0.231797</td>\n",
       "      <td>...</td>\n",
       "      <td>-0.013845</td>\n",
       "      <td>-0.155026</td>\n",
       "      <td>-0.000058</td>\n",
       "      <td>-0.004558</td>\n",
       "      <td>-0.108216</td>\n",
       "      <td>-0.018608</td>\n",
       "      <td>0.138621</td>\n",
       "      <td>0.111962</td>\n",
       "      <td>0.106939</td>\n",
       "      <td>-0.114143</td>\n",
       "    </tr>\n",
       "    <tr>\n",
       "      <th>app_id</th>\n",
       "      <td>-0.002471</td>\n",
       "      <td>0.069100</td>\n",
       "      <td>-0.220665</td>\n",
       "      <td>0.138395</td>\n",
       "      <td>-0.094051</td>\n",
       "      <td>-0.229413</td>\n",
       "      <td>0.251346</td>\n",
       "      <td>1.000000</td>\n",
       "      <td>0.184265</td>\n",
       "      <td>-0.522279</td>\n",
       "      <td>...</td>\n",
       "      <td>-0.253221</td>\n",
       "      <td>-0.368454</td>\n",
       "      <td>-0.057492</td>\n",
       "      <td>-0.052922</td>\n",
       "      <td>0.052383</td>\n",
       "      <td>-0.067178</td>\n",
       "      <td>-0.043159</td>\n",
       "      <td>0.013497</td>\n",
       "      <td>-0.012833</td>\n",
       "      <td>-0.045608</td>\n",
       "    </tr>\n",
       "    <tr>\n",
       "      <th>app_domain</th>\n",
       "      <td>0.002724</td>\n",
       "      <td>-0.003514</td>\n",
       "      <td>-0.004400</td>\n",
       "      <td>0.058831</td>\n",
       "      <td>-0.028472</td>\n",
       "      <td>-0.069449</td>\n",
       "      <td>0.076089</td>\n",
       "      <td>0.184265</td>\n",
       "      <td>1.000000</td>\n",
       "      <td>-0.246499</td>\n",
       "      <td>...</td>\n",
       "      <td>0.004559</td>\n",
       "      <td>-0.021415</td>\n",
       "      <td>0.029797</td>\n",
       "      <td>0.016318</td>\n",
       "      <td>0.013164</td>\n",
       "      <td>0.022575</td>\n",
       "      <td>-0.036329</td>\n",
       "      <td>-0.007126</td>\n",
       "      <td>0.183442</td>\n",
       "      <td>-0.097442</td>\n",
       "    </tr>\n",
       "    <tr>\n",
       "      <th>app_category</th>\n",
       "      <td>0.001415</td>\n",
       "      <td>-0.048846</td>\n",
       "      <td>0.092810</td>\n",
       "      <td>-0.223686</td>\n",
       "      <td>0.086736</td>\n",
       "      <td>0.211571</td>\n",
       "      <td>-0.231797</td>\n",
       "      <td>-0.522279</td>\n",
       "      <td>-0.246499</td>\n",
       "      <td>1.000000</td>\n",
       "      <td>...</td>\n",
       "      <td>0.084994</td>\n",
       "      <td>0.234895</td>\n",
       "      <td>0.001835</td>\n",
       "      <td>0.045087</td>\n",
       "      <td>-0.065261</td>\n",
       "      <td>0.023111</td>\n",
       "      <td>0.080675</td>\n",
       "      <td>0.018104</td>\n",
       "      <td>-0.056281</td>\n",
       "      <td>0.063214</td>\n",
       "    </tr>\n",
       "    <tr>\n",
       "      <th>device_id</th>\n",
       "      <td>0.001320</td>\n",
       "      <td>0.009488</td>\n",
       "      <td>0.047171</td>\n",
       "      <td>0.036939</td>\n",
       "      <td>-0.034446</td>\n",
       "      <td>-0.037656</td>\n",
       "      <td>0.102039</td>\n",
       "      <td>0.167894</td>\n",
       "      <td>0.078041</td>\n",
       "      <td>-0.121404</td>\n",
       "      <td>...</td>\n",
       "      <td>-0.027697</td>\n",
       "      <td>-0.046626</td>\n",
       "      <td>0.049960</td>\n",
       "      <td>-0.013412</td>\n",
       "      <td>0.020549</td>\n",
       "      <td>0.048403</td>\n",
       "      <td>-0.060403</td>\n",
       "      <td>-0.016446</td>\n",
       "      <td>0.024671</td>\n",
       "      <td>0.023975</td>\n",
       "    </tr>\n",
       "    <tr>\n",
       "      <th>device_ip</th>\n",
       "      <td>0.000464</td>\n",
       "      <td>0.001160</td>\n",
       "      <td>0.000766</td>\n",
       "      <td>0.001488</td>\n",
       "      <td>0.002391</td>\n",
       "      <td>-0.002338</td>\n",
       "      <td>0.002569</td>\n",
       "      <td>-0.000750</td>\n",
       "      <td>-0.005258</td>\n",
       "      <td>0.001246</td>\n",
       "      <td>...</td>\n",
       "      <td>0.001940</td>\n",
       "      <td>-0.004788</td>\n",
       "      <td>0.004843</td>\n",
       "      <td>0.001686</td>\n",
       "      <td>0.001480</td>\n",
       "      <td>0.004799</td>\n",
       "      <td>0.003202</td>\n",
       "      <td>-0.003645</td>\n",
       "      <td>0.000831</td>\n",
       "      <td>0.000441</td>\n",
       "    </tr>\n",
       "    <tr>\n",
       "      <th>device_model</th>\n",
       "      <td>0.000479</td>\n",
       "      <td>-0.002860</td>\n",
       "      <td>0.090625</td>\n",
       "      <td>0.058579</td>\n",
       "      <td>0.025262</td>\n",
       "      <td>-0.015996</td>\n",
       "      <td>0.034008</td>\n",
       "      <td>-0.020938</td>\n",
       "      <td>0.013191</td>\n",
       "      <td>-0.000990</td>\n",
       "      <td>...</td>\n",
       "      <td>0.089057</td>\n",
       "      <td>0.000582</td>\n",
       "      <td>-0.029192</td>\n",
       "      <td>-0.004111</td>\n",
       "      <td>-0.009127</td>\n",
       "      <td>-0.028732</td>\n",
       "      <td>0.048912</td>\n",
       "      <td>0.003207</td>\n",
       "      <td>0.015160</td>\n",
       "      <td>-0.027461</td>\n",
       "    </tr>\n",
       "    <tr>\n",
       "      <th>device_type</th>\n",
       "      <td>-0.000426</td>\n",
       "      <td>-0.038963</td>\n",
       "      <td>0.895958</td>\n",
       "      <td>0.322602</td>\n",
       "      <td>0.005037</td>\n",
       "      <td>0.104176</td>\n",
       "      <td>-0.013845</td>\n",
       "      <td>-0.253221</td>\n",
       "      <td>0.004559</td>\n",
       "      <td>0.084994</td>\n",
       "      <td>...</td>\n",
       "      <td>1.000000</td>\n",
       "      <td>0.211382</td>\n",
       "      <td>0.044019</td>\n",
       "      <td>0.175332</td>\n",
       "      <td>0.064865</td>\n",
       "      <td>0.050570</td>\n",
       "      <td>-0.043457</td>\n",
       "      <td>-0.001329</td>\n",
       "      <td>-0.049444</td>\n",
       "      <td>0.034066</td>\n",
       "    </tr>\n",
       "    <tr>\n",
       "      <th>device_conn_type</th>\n",
       "      <td>0.002063</td>\n",
       "      <td>-0.083810</td>\n",
       "      <td>0.198031</td>\n",
       "      <td>-0.083380</td>\n",
       "      <td>0.040197</td>\n",
       "      <td>0.150063</td>\n",
       "      <td>-0.155026</td>\n",
       "      <td>-0.368454</td>\n",
       "      <td>-0.021415</td>\n",
       "      <td>0.234895</td>\n",
       "      <td>...</td>\n",
       "      <td>0.211382</td>\n",
       "      <td>1.000000</td>\n",
       "      <td>0.069615</td>\n",
       "      <td>0.076642</td>\n",
       "      <td>-0.016474</td>\n",
       "      <td>0.081619</td>\n",
       "      <td>-0.064637</td>\n",
       "      <td>-0.011474</td>\n",
       "      <td>0.091405</td>\n",
       "      <td>0.062395</td>\n",
       "    </tr>\n",
       "    <tr>\n",
       "      <th>C14</th>\n",
       "      <td>-0.000277</td>\n",
       "      <td>-0.058897</td>\n",
       "      <td>0.055173</td>\n",
       "      <td>-0.014893</td>\n",
       "      <td>-0.015257</td>\n",
       "      <td>0.016108</td>\n",
       "      <td>-0.000058</td>\n",
       "      <td>-0.057492</td>\n",
       "      <td>0.029797</td>\n",
       "      <td>0.001835</td>\n",
       "      <td>...</td>\n",
       "      <td>0.044019</td>\n",
       "      <td>0.069615</td>\n",
       "      <td>1.000000</td>\n",
       "      <td>0.003604</td>\n",
       "      <td>0.036396</td>\n",
       "      <td>0.976712</td>\n",
       "      <td>-0.231618</td>\n",
       "      <td>-0.131298</td>\n",
       "      <td>0.025003</td>\n",
       "      <td>0.410078</td>\n",
       "    </tr>\n",
       "    <tr>\n",
       "      <th>C15</th>\n",
       "      <td>-0.000565</td>\n",
       "      <td>-0.032547</td>\n",
       "      <td>0.118965</td>\n",
       "      <td>0.061270</td>\n",
       "      <td>0.004202</td>\n",
       "      <td>0.062409</td>\n",
       "      <td>-0.004558</td>\n",
       "      <td>-0.052922</td>\n",
       "      <td>0.016318</td>\n",
       "      <td>0.045087</td>\n",
       "      <td>...</td>\n",
       "      <td>0.175332</td>\n",
       "      <td>0.076642</td>\n",
       "      <td>0.003604</td>\n",
       "      <td>1.000000</td>\n",
       "      <td>-0.069705</td>\n",
       "      <td>0.002289</td>\n",
       "      <td>0.011250</td>\n",
       "      <td>0.052156</td>\n",
       "      <td>0.007358</td>\n",
       "      <td>0.004590</td>\n",
       "    </tr>\n",
       "    <tr>\n",
       "      <th>C16</th>\n",
       "      <td>-0.001412</td>\n",
       "      <td>0.132519</td>\n",
       "      <td>0.063395</td>\n",
       "      <td>0.022299</td>\n",
       "      <td>-0.042110</td>\n",
       "      <td>-0.130832</td>\n",
       "      <td>-0.108216</td>\n",
       "      <td>0.052383</td>\n",
       "      <td>0.013164</td>\n",
       "      <td>-0.065261</td>\n",
       "      <td>...</td>\n",
       "      <td>0.064865</td>\n",
       "      <td>-0.016474</td>\n",
       "      <td>0.036396</td>\n",
       "      <td>-0.069705</td>\n",
       "      <td>1.000000</td>\n",
       "      <td>0.046728</td>\n",
       "      <td>0.085259</td>\n",
       "      <td>-0.074167</td>\n",
       "      <td>-0.046270</td>\n",
       "      <td>-0.086888</td>\n",
       "    </tr>\n",
       "    <tr>\n",
       "      <th>C17</th>\n",
       "      <td>-0.000366</td>\n",
       "      <td>-0.054207</td>\n",
       "      <td>0.064389</td>\n",
       "      <td>-0.034633</td>\n",
       "      <td>-0.014275</td>\n",
       "      <td>0.037436</td>\n",
       "      <td>-0.018608</td>\n",
       "      <td>-0.067178</td>\n",
       "      <td>0.022575</td>\n",
       "      <td>0.023111</td>\n",
       "      <td>...</td>\n",
       "      <td>0.050570</td>\n",
       "      <td>0.081619</td>\n",
       "      <td>0.976712</td>\n",
       "      <td>0.002289</td>\n",
       "      <td>0.046728</td>\n",
       "      <td>1.000000</td>\n",
       "      <td>-0.246384</td>\n",
       "      <td>-0.127162</td>\n",
       "      <td>0.009325</td>\n",
       "      <td>0.423360</td>\n",
       "    </tr>\n",
       "    <tr>\n",
       "      <th>C18</th>\n",
       "      <td>-0.000183</td>\n",
       "      <td>0.020315</td>\n",
       "      <td>-0.040343</td>\n",
       "      <td>0.095575</td>\n",
       "      <td>0.302692</td>\n",
       "      <td>-0.187116</td>\n",
       "      <td>0.138621</td>\n",
       "      <td>-0.043159</td>\n",
       "      <td>-0.036329</td>\n",
       "      <td>0.080675</td>\n",
       "      <td>...</td>\n",
       "      <td>-0.043457</td>\n",
       "      <td>-0.064637</td>\n",
       "      <td>-0.231618</td>\n",
       "      <td>0.011250</td>\n",
       "      <td>0.085259</td>\n",
       "      <td>-0.246384</td>\n",
       "      <td>1.000000</td>\n",
       "      <td>0.093851</td>\n",
       "      <td>0.008467</td>\n",
       "      <td>-0.545522</td>\n",
       "    </tr>\n",
       "    <tr>\n",
       "      <th>C19</th>\n",
       "      <td>0.002952</td>\n",
       "      <td>-0.002608</td>\n",
       "      <td>0.002944</td>\n",
       "      <td>0.131630</td>\n",
       "      <td>0.061751</td>\n",
       "      <td>-0.027651</td>\n",
       "      <td>0.111962</td>\n",
       "      <td>0.013497</td>\n",
       "      <td>-0.007126</td>\n",
       "      <td>0.018104</td>\n",
       "      <td>...</td>\n",
       "      <td>-0.001329</td>\n",
       "      <td>-0.011474</td>\n",
       "      <td>-0.131298</td>\n",
       "      <td>0.052156</td>\n",
       "      <td>-0.074167</td>\n",
       "      <td>-0.127162</td>\n",
       "      <td>0.093851</td>\n",
       "      <td>1.000000</td>\n",
       "      <td>0.091832</td>\n",
       "      <td>-0.133732</td>\n",
       "    </tr>\n",
       "    <tr>\n",
       "      <th>C20</th>\n",
       "      <td>-0.000639</td>\n",
       "      <td>-0.054726</td>\n",
       "      <td>-0.035807</td>\n",
       "      <td>0.057581</td>\n",
       "      <td>0.076074</td>\n",
       "      <td>-0.075684</td>\n",
       "      <td>0.106939</td>\n",
       "      <td>-0.012833</td>\n",
       "      <td>0.183442</td>\n",
       "      <td>-0.056281</td>\n",
       "      <td>...</td>\n",
       "      <td>-0.049444</td>\n",
       "      <td>0.091405</td>\n",
       "      <td>0.025003</td>\n",
       "      <td>0.007358</td>\n",
       "      <td>-0.046270</td>\n",
       "      <td>0.009325</td>\n",
       "      <td>0.008467</td>\n",
       "      <td>0.091832</td>\n",
       "      <td>1.000000</td>\n",
       "      <td>-0.034650</td>\n",
       "    </tr>\n",
       "    <tr>\n",
       "      <th>C21</th>\n",
       "      <td>-0.000708</td>\n",
       "      <td>-0.068991</td>\n",
       "      <td>0.034997</td>\n",
       "      <td>-0.097563</td>\n",
       "      <td>-0.155942</td>\n",
       "      <td>0.126457</td>\n",
       "      <td>-0.114143</td>\n",
       "      <td>-0.045608</td>\n",
       "      <td>-0.097442</td>\n",
       "      <td>0.063214</td>\n",
       "      <td>...</td>\n",
       "      <td>0.034066</td>\n",
       "      <td>0.062395</td>\n",
       "      <td>0.410078</td>\n",
       "      <td>0.004590</td>\n",
       "      <td>-0.086888</td>\n",
       "      <td>0.423360</td>\n",
       "      <td>-0.545522</td>\n",
       "      <td>-0.133732</td>\n",
       "      <td>-0.034650</td>\n",
       "      <td>1.000000</td>\n",
       "    </tr>\n",
       "  </tbody>\n",
       "</table>\n",
       "<p>23 rows × 23 columns</p>\n",
       "</div>"
      ],
      "text/plain": [
       "                        id     click        C1  banner_pos   site_id  \\\n",
       "id                1.000000 -0.000228 -0.000398   -0.000584  0.003792   \n",
       "click            -0.000228  1.000000 -0.037150    0.025028 -0.007384   \n",
       "C1               -0.000398 -0.037150  1.000000    0.288836  0.001556   \n",
       "banner_pos       -0.000584  0.025028  0.288836    1.000000  0.291479   \n",
       "site_id           0.003792 -0.007384  0.001556    0.291479  1.000000   \n",
       "site_domain       0.001408 -0.036259  0.118667   -0.414419 -0.254806   \n",
       "site_category     0.000374 -0.006841  0.031371    0.532049  0.407245   \n",
       "app_id           -0.002471  0.069100 -0.220665    0.138395 -0.094051   \n",
       "app_domain        0.002724 -0.003514 -0.004400    0.058831 -0.028472   \n",
       "app_category      0.001415 -0.048846  0.092810   -0.223686  0.086736   \n",
       "device_id         0.001320  0.009488  0.047171    0.036939 -0.034446   \n",
       "device_ip         0.000464  0.001160  0.000766    0.001488  0.002391   \n",
       "device_model      0.000479 -0.002860  0.090625    0.058579  0.025262   \n",
       "device_type      -0.000426 -0.038963  0.895958    0.322602  0.005037   \n",
       "device_conn_type  0.002063 -0.083810  0.198031   -0.083380  0.040197   \n",
       "C14              -0.000277 -0.058897  0.055173   -0.014893 -0.015257   \n",
       "C15              -0.000565 -0.032547  0.118965    0.061270  0.004202   \n",
       "C16              -0.001412  0.132519  0.063395    0.022299 -0.042110   \n",
       "C17              -0.000366 -0.054207  0.064389   -0.034633 -0.014275   \n",
       "C18              -0.000183  0.020315 -0.040343    0.095575  0.302692   \n",
       "C19               0.002952 -0.002608  0.002944    0.131630  0.061751   \n",
       "C20              -0.000639 -0.054726 -0.035807    0.057581  0.076074   \n",
       "C21              -0.000708 -0.068991  0.034997   -0.097563 -0.155942   \n",
       "\n",
       "                  site_domain  site_category    app_id  app_domain  \\\n",
       "id                   0.001408       0.000374 -0.002471    0.002724   \n",
       "click               -0.036259      -0.006841  0.069100   -0.003514   \n",
       "C1                   0.118667       0.031371 -0.220665   -0.004400   \n",
       "banner_pos          -0.414419       0.532049  0.138395    0.058831   \n",
       "site_id             -0.254806       0.407245 -0.094051   -0.028472   \n",
       "site_domain          1.000000      -0.590871 -0.229413   -0.069449   \n",
       "site_category       -0.590871       1.000000  0.251346    0.076089   \n",
       "app_id              -0.229413       0.251346  1.000000    0.184265   \n",
       "app_domain          -0.069449       0.076089  0.184265    1.000000   \n",
       "app_category         0.211571      -0.231797 -0.522279   -0.246499   \n",
       "device_id           -0.037656       0.102039  0.167894    0.078041   \n",
       "device_ip           -0.002338       0.002569 -0.000750   -0.005258   \n",
       "device_model        -0.015996       0.034008 -0.020938    0.013191   \n",
       "device_type          0.104176      -0.013845 -0.253221    0.004559   \n",
       "device_conn_type     0.150063      -0.155026 -0.368454   -0.021415   \n",
       "C14                  0.016108      -0.000058 -0.057492    0.029797   \n",
       "C15                  0.062409      -0.004558 -0.052922    0.016318   \n",
       "C16                 -0.130832      -0.108216  0.052383    0.013164   \n",
       "C17                  0.037436      -0.018608 -0.067178    0.022575   \n",
       "C18                 -0.187116       0.138621 -0.043159   -0.036329   \n",
       "C19                 -0.027651       0.111962  0.013497   -0.007126   \n",
       "C20                 -0.075684       0.106939 -0.012833    0.183442   \n",
       "C21                  0.126457      -0.114143 -0.045608   -0.097442   \n",
       "\n",
       "                  app_category  ...  device_type  device_conn_type       C14  \\\n",
       "id                    0.001415  ...    -0.000426          0.002063 -0.000277   \n",
       "click                -0.048846  ...    -0.038963         -0.083810 -0.058897   \n",
       "C1                    0.092810  ...     0.895958          0.198031  0.055173   \n",
       "banner_pos           -0.223686  ...     0.322602         -0.083380 -0.014893   \n",
       "site_id               0.086736  ...     0.005037          0.040197 -0.015257   \n",
       "site_domain           0.211571  ...     0.104176          0.150063  0.016108   \n",
       "site_category        -0.231797  ...    -0.013845         -0.155026 -0.000058   \n",
       "app_id               -0.522279  ...    -0.253221         -0.368454 -0.057492   \n",
       "app_domain           -0.246499  ...     0.004559         -0.021415  0.029797   \n",
       "app_category          1.000000  ...     0.084994          0.234895  0.001835   \n",
       "device_id            -0.121404  ...    -0.027697         -0.046626  0.049960   \n",
       "device_ip             0.001246  ...     0.001940         -0.004788  0.004843   \n",
       "device_model         -0.000990  ...     0.089057          0.000582 -0.029192   \n",
       "device_type           0.084994  ...     1.000000          0.211382  0.044019   \n",
       "device_conn_type      0.234895  ...     0.211382          1.000000  0.069615   \n",
       "C14                   0.001835  ...     0.044019          0.069615  1.000000   \n",
       "C15                   0.045087  ...     0.175332          0.076642  0.003604   \n",
       "C16                  -0.065261  ...     0.064865         -0.016474  0.036396   \n",
       "C17                   0.023111  ...     0.050570          0.081619  0.976712   \n",
       "C18                   0.080675  ...    -0.043457         -0.064637 -0.231618   \n",
       "C19                   0.018104  ...    -0.001329         -0.011474 -0.131298   \n",
       "C20                  -0.056281  ...    -0.049444          0.091405  0.025003   \n",
       "C21                   0.063214  ...     0.034066          0.062395  0.410078   \n",
       "\n",
       "                       C15       C16       C17       C18       C19       C20  \\\n",
       "id               -0.000565 -0.001412 -0.000366 -0.000183  0.002952 -0.000639   \n",
       "click            -0.032547  0.132519 -0.054207  0.020315 -0.002608 -0.054726   \n",
       "C1                0.118965  0.063395  0.064389 -0.040343  0.002944 -0.035807   \n",
       "banner_pos        0.061270  0.022299 -0.034633  0.095575  0.131630  0.057581   \n",
       "site_id           0.004202 -0.042110 -0.014275  0.302692  0.061751  0.076074   \n",
       "site_domain       0.062409 -0.130832  0.037436 -0.187116 -0.027651 -0.075684   \n",
       "site_category    -0.004558 -0.108216 -0.018608  0.138621  0.111962  0.106939   \n",
       "app_id           -0.052922  0.052383 -0.067178 -0.043159  0.013497 -0.012833   \n",
       "app_domain        0.016318  0.013164  0.022575 -0.036329 -0.007126  0.183442   \n",
       "app_category      0.045087 -0.065261  0.023111  0.080675  0.018104 -0.056281   \n",
       "device_id        -0.013412  0.020549  0.048403 -0.060403 -0.016446  0.024671   \n",
       "device_ip         0.001686  0.001480  0.004799  0.003202 -0.003645  0.000831   \n",
       "device_model     -0.004111 -0.009127 -0.028732  0.048912  0.003207  0.015160   \n",
       "device_type       0.175332  0.064865  0.050570 -0.043457 -0.001329 -0.049444   \n",
       "device_conn_type  0.076642 -0.016474  0.081619 -0.064637 -0.011474  0.091405   \n",
       "C14               0.003604  0.036396  0.976712 -0.231618 -0.131298  0.025003   \n",
       "C15               1.000000 -0.069705  0.002289  0.011250  0.052156  0.007358   \n",
       "C16              -0.069705  1.000000  0.046728  0.085259 -0.074167 -0.046270   \n",
       "C17               0.002289  0.046728  1.000000 -0.246384 -0.127162  0.009325   \n",
       "C18               0.011250  0.085259 -0.246384  1.000000  0.093851  0.008467   \n",
       "C19               0.052156 -0.074167 -0.127162  0.093851  1.000000  0.091832   \n",
       "C20               0.007358 -0.046270  0.009325  0.008467  0.091832  1.000000   \n",
       "C21               0.004590 -0.086888  0.423360 -0.545522 -0.133732 -0.034650   \n",
       "\n",
       "                       C21  \n",
       "id               -0.000708  \n",
       "click            -0.068991  \n",
       "C1                0.034997  \n",
       "banner_pos       -0.097563  \n",
       "site_id          -0.155942  \n",
       "site_domain       0.126457  \n",
       "site_category    -0.114143  \n",
       "app_id           -0.045608  \n",
       "app_domain       -0.097442  \n",
       "app_category      0.063214  \n",
       "device_id         0.023975  \n",
       "device_ip         0.000441  \n",
       "device_model     -0.027461  \n",
       "device_type       0.034066  \n",
       "device_conn_type  0.062395  \n",
       "C14               0.410078  \n",
       "C15               0.004590  \n",
       "C16              -0.086888  \n",
       "C17               0.423360  \n",
       "C18              -0.545522  \n",
       "C19              -0.133732  \n",
       "C20              -0.034650  \n",
       "C21               1.000000  \n",
       "\n",
       "[23 rows x 23 columns]"
      ]
     },
     "execution_count": 429,
     "metadata": {},
     "output_type": "execute_result"
    }
   ],
   "source": [
    "sns.set(rc={'figure.figsize': (30, 30)})\n",
    "train.corr()"
   ]
  },
  {
   "cell_type": "code",
   "execution_count": 430,
   "metadata": {
    "id": "cDASityd_utp"
   },
   "outputs": [],
   "source": [
    "train = train.drop(['id', 'site_id', 'site_category', 'app_domain', 'device_id', 'device_ip', 'device_model', 'C18', 'C19'], axis=1)"
   ]
  },
  {
   "cell_type": "code",
   "execution_count": 431,
   "metadata": {
    "colab": {
     "base_uri": "https://localhost:8080/"
    },
    "id": "aiO-07hQG5ZV",
    "outputId": "737ffb5e-fb64-4d00-c784-b04974be024b"
   },
   "outputs": [
    {
     "data": {
      "text/plain": [
       "(404290, 14)"
      ]
     },
     "execution_count": 431,
     "metadata": {},
     "output_type": "execute_result"
    }
   ],
   "source": [
    "train.shape"
   ]
  },
  {
   "cell_type": "code",
   "execution_count": 432,
   "metadata": {
    "colab": {
     "base_uri": "https://localhost:8080/",
     "height": 580
    },
    "id": "L_vXFfP7Altk",
    "outputId": "5a2ae235-7817-4e56-9e56-bf265b6406d3"
   },
   "outputs": [
    {
     "data": {
      "text/plain": [
       "<Axes: >"
      ]
     },
     "execution_count": 432,
     "metadata": {},
     "output_type": "execute_result"
    },
    {
     "data": {
      "image/png": "[encoded data removed]",
      "text/plain": [
       "<Figure size 2000x1500 with 2 Axes>"
      ]
     },
     "metadata": {},
     "output_type": "display_data"
    }
   ],
   "source": [
    "sns.set(rc={'figure.figsize': (20, 15)})\n",
    "sns.heatmap(train.corr(), annot = True)"
   ]
  },
  {
   "cell_type": "code",
   "execution_count": 433,
   "metadata": {
    "colab": {
     "base_uri": "https://localhost:8080/",
     "height": 439
    },
    "id": "GXbTFFUHIukd",
    "outputId": "1efd3336-fdc3-48d1-9a74-46fcfcccfa99"
   },
   "outputs": [
    {
     "data": {
      "text/html": [
       "<div>\n",
       "<style scoped>\n",
       "    .dataframe tbody tr th:only-of-type {\n",
       "        vertical-align: middle;\n",
       "    }\n",
       "\n",
       "    .dataframe tbody tr th {\n",
       "        vertical-align: top;\n",
       "    }\n",
       "\n",
       "    .dataframe thead th {\n",
       "        text-align: right;\n",
       "    }\n",
       "</style>\n",
       "<table border=\"1\" class=\"dataframe\">\n",
       "  <thead>\n",
       "    <tr style=\"text-align: right;\">\n",
       "      <th></th>\n",
       "      <th>click</th>\n",
       "      <th>C1</th>\n",
       "      <th>banner_pos</th>\n",
       "      <th>site_domain</th>\n",
       "      <th>app_id</th>\n",
       "      <th>app_category</th>\n",
       "      <th>device_type</th>\n",
       "      <th>device_conn_type</th>\n",
       "      <th>C14</th>\n",
       "      <th>C15</th>\n",
       "      <th>C16</th>\n",
       "      <th>C17</th>\n",
       "      <th>C20</th>\n",
       "      <th>C21</th>\n",
       "    </tr>\n",
       "  </thead>\n",
       "  <tbody>\n",
       "    <tr>\n",
       "      <th>0</th>\n",
       "      <td>0</td>\n",
       "      <td>1005</td>\n",
       "      <td>0</td>\n",
       "      <td>3802520582</td>\n",
       "      <td>3970769798</td>\n",
       "      <td>0</td>\n",
       "      <td>1</td>\n",
       "      <td>0</td>\n",
       "      <td>20366</td>\n",
       "      <td>320</td>\n",
       "      <td>50</td>\n",
       "      <td>2333</td>\n",
       "      <td>-1</td>\n",
       "      <td>157</td>\n",
       "    </tr>\n",
       "    <tr>\n",
       "      <th>1</th>\n",
       "      <td>0</td>\n",
       "      <td>1005</td>\n",
       "      <td>0</td>\n",
       "      <td>3303116246</td>\n",
       "      <td>1158605078</td>\n",
       "      <td>3</td>\n",
       "      <td>1</td>\n",
       "      <td>0</td>\n",
       "      <td>21234</td>\n",
       "      <td>320</td>\n",
       "      <td>50</td>\n",
       "      <td>2434</td>\n",
       "      <td>100088</td>\n",
       "      <td>61</td>\n",
       "    </tr>\n",
       "    <tr>\n",
       "      <th>2</th>\n",
       "      <td>0</td>\n",
       "      <td>1005</td>\n",
       "      <td>1</td>\n",
       "      <td>379809523</td>\n",
       "      <td>3970769798</td>\n",
       "      <td>0</td>\n",
       "      <td>1</td>\n",
       "      <td>0</td>\n",
       "      <td>20006</td>\n",
       "      <td>320</td>\n",
       "      <td>50</td>\n",
       "      <td>2283</td>\n",
       "      <td>-1</td>\n",
       "      <td>95</td>\n",
       "    </tr>\n",
       "    <tr>\n",
       "      <th>3</th>\n",
       "      <td>0</td>\n",
       "      <td>1005</td>\n",
       "      <td>0</td>\n",
       "      <td>3303116246</td>\n",
       "      <td>3916666920</td>\n",
       "      <td>20</td>\n",
       "      <td>1</td>\n",
       "      <td>0</td>\n",
       "      <td>21660</td>\n",
       "      <td>320</td>\n",
       "      <td>50</td>\n",
       "      <td>2446</td>\n",
       "      <td>100228</td>\n",
       "      <td>156</td>\n",
       "    </tr>\n",
       "    <tr>\n",
       "      <th>4</th>\n",
       "      <td>1</td>\n",
       "      <td>1005</td>\n",
       "      <td>1</td>\n",
       "      <td>1359730745</td>\n",
       "      <td>3970769798</td>\n",
       "      <td>0</td>\n",
       "      <td>1</td>\n",
       "      <td>0</td>\n",
       "      <td>16208</td>\n",
       "      <td>320</td>\n",
       "      <td>50</td>\n",
       "      <td>1800</td>\n",
       "      <td>100077</td>\n",
       "      <td>23</td>\n",
       "    </tr>\n",
       "    <tr>\n",
       "      <th>...</th>\n",
       "      <td>...</td>\n",
       "      <td>...</td>\n",
       "      <td>...</td>\n",
       "      <td>...</td>\n",
       "      <td>...</td>\n",
       "      <td>...</td>\n",
       "      <td>...</td>\n",
       "      <td>...</td>\n",
       "      <td>...</td>\n",
       "      <td>...</td>\n",
       "      <td>...</td>\n",
       "      <td>...</td>\n",
       "      <td>...</td>\n",
       "      <td>...</td>\n",
       "    </tr>\n",
       "    <tr>\n",
       "      <th>404285</th>\n",
       "      <td>1</td>\n",
       "      <td>1005</td>\n",
       "      <td>0</td>\n",
       "      <td>1988601966</td>\n",
       "      <td>3970769798</td>\n",
       "      <td>0</td>\n",
       "      <td>1</td>\n",
       "      <td>0</td>\n",
       "      <td>19015</td>\n",
       "      <td>300</td>\n",
       "      <td>250</td>\n",
       "      <td>2162</td>\n",
       "      <td>100161</td>\n",
       "      <td>33</td>\n",
       "    </tr>\n",
       "    <tr>\n",
       "      <th>404286</th>\n",
       "      <td>0</td>\n",
       "      <td>1005</td>\n",
       "      <td>1</td>\n",
       "      <td>2114524691</td>\n",
       "      <td>3970769798</td>\n",
       "      <td>0</td>\n",
       "      <td>1</td>\n",
       "      <td>2</td>\n",
       "      <td>22832</td>\n",
       "      <td>320</td>\n",
       "      <td>50</td>\n",
       "      <td>2647</td>\n",
       "      <td>100148</td>\n",
       "      <td>23</td>\n",
       "    </tr>\n",
       "    <tr>\n",
       "      <th>404287</th>\n",
       "      <td>0</td>\n",
       "      <td>1005</td>\n",
       "      <td>1</td>\n",
       "      <td>2114524691</td>\n",
       "      <td>3970769798</td>\n",
       "      <td>0</td>\n",
       "      <td>1</td>\n",
       "      <td>0</td>\n",
       "      <td>17747</td>\n",
       "      <td>320</td>\n",
       "      <td>50</td>\n",
       "      <td>1974</td>\n",
       "      <td>100019</td>\n",
       "      <td>33</td>\n",
       "    </tr>\n",
       "    <tr>\n",
       "      <th>404288</th>\n",
       "      <td>1</td>\n",
       "      <td>1005</td>\n",
       "      <td>0</td>\n",
       "      <td>3303116246</td>\n",
       "      <td>1011586125</td>\n",
       "      <td>3</td>\n",
       "      <td>1</td>\n",
       "      <td>0</td>\n",
       "      <td>16859</td>\n",
       "      <td>320</td>\n",
       "      <td>50</td>\n",
       "      <td>1887</td>\n",
       "      <td>-1</td>\n",
       "      <td>23</td>\n",
       "    </tr>\n",
       "    <tr>\n",
       "      <th>404289</th>\n",
       "      <td>1</td>\n",
       "      <td>1005</td>\n",
       "      <td>1</td>\n",
       "      <td>3291752324</td>\n",
       "      <td>3970769798</td>\n",
       "      <td>0</td>\n",
       "      <td>1</td>\n",
       "      <td>0</td>\n",
       "      <td>23722</td>\n",
       "      <td>320</td>\n",
       "      <td>50</td>\n",
       "      <td>2716</td>\n",
       "      <td>100192</td>\n",
       "      <td>23</td>\n",
       "    </tr>\n",
       "  </tbody>\n",
       "</table>\n",
       "<p>404290 rows × 14 columns</p>\n",
       "</div>"
      ],
      "text/plain": [
       "        click    C1  banner_pos  site_domain      app_id  app_category  \\\n",
       "0           0  1005           0   3802520582  3970769798             0   \n",
       "1           0  1005           0   3303116246  1158605078             3   \n",
       "2           0  1005           1    379809523  3970769798             0   \n",
       "3           0  1005           0   3303116246  3916666920            20   \n",
       "4           1  1005           1   1359730745  3970769798             0   \n",
       "...       ...   ...         ...          ...         ...           ...   \n",
       "404285      1  1005           0   1988601966  3970769798             0   \n",
       "404286      0  1005           1   2114524691  3970769798             0   \n",
       "404287      0  1005           1   2114524691  3970769798             0   \n",
       "404288      1  1005           0   3303116246  1011586125             3   \n",
       "404289      1  1005           1   3291752324  3970769798             0   \n",
       "\n",
       "        device_type  device_conn_type    C14  C15  C16   C17     C20  C21  \n",
       "0                 1                 0  20366  320   50  2333      -1  157  \n",
       "1                 1                 0  21234  320   50  2434  100088   61  \n",
       "2                 1                 0  20006  320   50  2283      -1   95  \n",
       "3                 1                 0  21660  320   50  2446  100228  156  \n",
       "4                 1                 0  16208  320   50  1800  100077   23  \n",
       "...             ...               ...    ...  ...  ...   ...     ...  ...  \n",
       "404285            1                 0  19015  300  250  2162  100161   33  \n",
       "404286            1                 2  22832  320   50  2647  100148   23  \n",
       "404287            1                 0  17747  320   50  1974  100019   33  \n",
       "404288            1                 0  16859  320   50  1887      -1   23  \n",
       "404289            1                 0  23722  320   50  2716  100192   23  \n",
       "\n",
       "[404290 rows x 14 columns]"
      ]
     },
     "execution_count": 433,
     "metadata": {},
     "output_type": "execute_result"
    }
   ],
   "source": [
    "train"
   ]
  },
  {
   "cell_type": "code",
   "execution_count": 434,
   "metadata": {},
   "outputs": [
    {
     "name": "stdout",
     "output_type": "stream",
     "text": [
      "num = ['C14', 'C15', 'C16', 'C17', 'C20', 'C21']\n",
      "cat = ['C1', 'banner_pos', 'site_domain', 'app_id', 'app_category', 'device_type', 'device_conn_type']\n"
     ]
    }
   ],
   "source": [
    "num = []\n",
    "cat = []\n",
    "target_col = 'click'\n",
    "\n",
    "for col in (train.columns):\n",
    "    if col != 'click':\n",
    "        if 'C' in col and col != 'C1':\n",
    "            num.append(col)\n",
    "        else:\n",
    "            cat.append(col)\n",
    "\n",
    "print('num =', num)\n",
    "print('cat =', cat)"
   ]
  },
  {
   "cell_type": "code",
   "execution_count": 435,
   "metadata": {},
   "outputs": [
    {
     "data": {
      "text/html": [
       "<style>#sk-container-id-14 {color: black;}#sk-container-id-14 pre{padding: 0;}#sk-container-id-14 div.sk-toggleable {background-color: white;}#sk-container-id-14 label.sk-toggleable__label {cursor: pointer;display: block;width: 100%;margin-bottom: 0;padding: 0.3em;box-sizing: border-box;text-align: center;}#sk-container-id-14 label.sk-toggleable__label-arrow:before {content: \"▸\";float: left;margin-right: 0.25em;color: #696969;}#sk-container-id-14 label.sk-toggleable__label-arrow:hover:before {color: black;}#sk-container-id-14 div.sk-estimator:hover label.sk-toggleable__label-arrow:before {color: black;}#sk-container-id-14 div.sk-toggleable__content {max-height: 0;max-width: 0;overflow: hidden;text-align: left;background-color: #f0f8ff;}#sk-container-id-14 div.sk-toggleable__content pre {margin: 0.2em;color: black;border-radius: 0.25em;background-color: #f0f8ff;}#sk-container-id-14 input.sk-toggleable__control:checked~div.sk-toggleable__content {max-height: 200px;max-width: 100%;overflow: auto;}#sk-container-id-14 input.sk-toggleable__control:checked~label.sk-toggleable__label-arrow:before {content: \"▾\";}#sk-container-id-14 div.sk-estimator input.sk-toggleable__control:checked~label.sk-toggleable__label {background-color: #d4ebff;}#sk-container-id-14 div.sk-label input.sk-toggleable__control:checked~label.sk-toggleable__label {background-color: #d4ebff;}#sk-container-id-14 input.sk-hidden--visually {border: 0;clip: rect(1px 1px 1px 1px);clip: rect(1px, 1px, 1px, 1px);height: 1px;margin: -1px;overflow: hidden;padding: 0;position: absolute;width: 1px;}#sk-container-id-14 div.sk-estimator {font-family: monospace;background-color: #f0f8ff;border: 1px dotted black;border-radius: 0.25em;box-sizing: border-box;margin-bottom: 0.5em;}#sk-container-id-14 div.sk-estimator:hover {background-color: #d4ebff;}#sk-container-id-14 div.sk-parallel-item::after {content: \"\";width: 100%;border-bottom: 1px solid gray;flex-grow: 1;}#sk-container-id-14 div.sk-label:hover label.sk-toggleable__label {background-color: #d4ebff;}#sk-container-id-14 div.sk-serial::before {content: \"\";position: absolute;border-left: 1px solid gray;box-sizing: border-box;top: 0;bottom: 0;left: 50%;z-index: 0;}#sk-container-id-14 div.sk-serial {display: flex;flex-direction: column;align-items: center;background-color: white;padding-right: 0.2em;padding-left: 0.2em;position: relative;}#sk-container-id-14 div.sk-item {position: relative;z-index: 1;}#sk-container-id-14 div.sk-parallel {display: flex;align-items: stretch;justify-content: center;background-color: white;position: relative;}#sk-container-id-14 div.sk-item::before, #sk-container-id-14 div.sk-parallel-item::before {content: \"\";position: absolute;border-left: 1px solid gray;box-sizing: border-box;top: 0;bottom: 0;left: 50%;z-index: -1;}#sk-container-id-14 div.sk-parallel-item {display: flex;flex-direction: column;z-index: 1;position: relative;background-color: white;}#sk-container-id-14 div.sk-parallel-item:first-child::after {align-self: flex-end;width: 50%;}#sk-container-id-14 div.sk-parallel-item:last-child::after {align-self: flex-start;width: 50%;}#sk-container-id-14 div.sk-parallel-item:only-child::after {width: 0;}#sk-container-id-14 div.sk-dashed-wrapped {border: 1px dashed gray;margin: 0 0.4em 0.5em 0.4em;box-sizing: border-box;padding-bottom: 0.4em;background-color: white;}#sk-container-id-14 div.sk-label label {font-family: monospace;font-weight: bold;display: inline-block;line-height: 1.2em;}#sk-container-id-14 div.sk-label-container {text-align: center;}#sk-container-id-14 div.sk-container {/* jupyter's `normalize.less` sets `[hidden] { display: none; }` but bootstrap.min.css set `[hidden] { display: none !important; }` so we also need the `!important` here to be able to override the default hidden behavior on the sphinx rendered scikit-learn.org. See: https://github.com/scikit-learn/scikit-learn/issues/21755 */display: inline-block !important;position: relative;}#sk-container-id-14 div.sk-text-repr-fallback {display: none;}</style><div id=\"sk-container-id-14\" class=\"sk-top-container\"><div class=\"sk-text-repr-fallback\"><pre>StandardScaler()</pre><b>In a Jupyter environment, please rerun this cell to show the HTML representation or trust the notebook. <br />On GitHub, the HTML representation is unable to render, please try loading this page with nbviewer.org.</b></div><div class=\"sk-container\" hidden><div class=\"sk-item\"><div class=\"sk-estimator sk-toggleable\"><input class=\"sk-toggleable__control sk-hidden--visually\" id=\"sk-estimator-id-14\" type=\"checkbox\" checked><label for=\"sk-estimator-id-14\" class=\"sk-toggleable__label sk-toggleable__label-arrow\">StandardScaler</label><div class=\"sk-toggleable__content\"><pre>StandardScaler()</pre></div></div></div></div></div>"
      ],
      "text/plain": [
       "StandardScaler()"
      ]
     },
     "execution_count": 435,
     "metadata": {},
     "output_type": "execute_result"
    }
   ],
   "source": [
    "from sklearn import preprocessing\n",
    "\n",
    "scaled = preprocessing.StandardScaler()\n",
    "\n",
    "scaled.fit(train.drop(['click'], axis=1)[num], train['click'])"
   ]
  },
  {
   "cell_type": "code",
   "execution_count": 436,
   "metadata": {},
   "outputs": [],
   "source": [
    "train[num] = scaled.transform(train[num])"
   ]
  },
  {
   "cell_type": "code",
   "execution_count": 437,
   "metadata": {
    "id": "gGaV_8bzdG8F"
   },
   "outputs": [],
   "source": [
    "target = train['click']\n",
    "items = train.drop('click', axis=1)"
   ]
  },
  {
   "cell_type": "markdown",
   "metadata": {
    "id": "6MS-TUH_7v8C",
    "jp-MarkdownHeadingCollapsed": true,
    "tags": []
   },
   "source": [
    "# Factorization Machines"
   ]
  },
  {
   "cell_type": "code",
   "execution_count": 58,
   "metadata": {},
   "outputs": [],
   "source": [
    "# !sudo apt-get install libatlas-base-dev\n",
    "\n",
    "# # Clone the repro including submodules (or clone + `git submodule update --init --recursive`)\n",
    "# !git clone --recursive https://github.com/ibayer/fastFM-core.git\n",
    "\n",
    "# # Build library\n",
    "# !cd fastFM-core/; make;\n",
    "\n",
    "# # Build command line interface (currently this works on linux only)\n",
    "# !make cli"
   ]
  },
  {
   "cell_type": "code",
   "execution_count": 57,
   "metadata": {},
   "outputs": [],
   "source": [
    "# !sudo apt-get install python-dev libopenblas-dev\n",
    "\n",
    "# # Clone the repo including submodules (or clone + `git submodule update --init --recursive`)\n",
    "# !git clone --recursive https://github.com/ibayer/fastFM.git\n",
    "\n",
    "# # Enter the root directory\n",
    "# !cd fastFM\n",
    "\n",
    "# # Install Python dependencies (Cython>=0.22, numpy, pandas, scipy, scikit-learn)\n",
    "# !pip install -r ./requirements.txt\n",
    "\n",
    "# # Compile the C extension.\n",
    "# !make                      # build with default python version (python)\n",
    "# !PYTHON=python3 make       # build with custom python version (python3)\n",
    "\n",
    "# # Install fastFM\n",
    "# !pip install Documents/Vseros/ctr/fastFM"
   ]
  },
  {
   "cell_type": "code",
   "execution_count": 34,
   "metadata": {
    "colab": {
     "base_uri": "https://localhost:8080/"
    },
    "id": "W5y2Te-b7uUT",
    "outputId": "c59b4b2e-b029-4656-89a6-f030764ff4ad"
   },
   "outputs": [],
   "source": [
    "# !pip install fastFM"
   ]
  },
  {
   "cell_type": "code",
   "execution_count": 62,
   "metadata": {},
   "outputs": [
    {
     "name": "stdout",
     "output_type": "stream",
     "text": [
      "clang: \u001b[0;1;35mwarning: \u001b[0m\u001b[1mtreating 'c-header' input as 'c++-header' when in C++ mode, this behavior is deprecated [-Wdeprecated]\u001b[0m\n",
      "clang: \u001b[0;1;31merror: \u001b[0m\u001b[1mcannot specify -o when generating multiple output files\u001b[0m\n"
     ]
    }
   ],
   "source": [
    "# !g++ -shared -fPIC -o example.so fastFM/fastFM-core/include/ffm.h -lffm"
   ]
  },
  {
   "cell_type": "code",
   "execution_count": 60,
   "metadata": {},
   "outputs": [
    {
     "name": "stdout",
     "output_type": "stream",
     "text": [
      "clang: \u001b[0;1;31merror: \u001b[0m\u001b[1mcannot specify -o when generating multiple output files\u001b[0m\n"
     ]
    }
   ],
   "source": [
    "# !gcc -shared -Wl,-soname,adder -o adder.so -fPIC fastFM/fastFM-core/include/ffm.h"
   ]
  },
  {
   "cell_type": "code",
   "execution_count": 51,
   "metadata": {
    "id": "iQ5wnXmS8EQI"
   },
   "outputs": [
    {
     "ename": "ImportError",
     "evalue": "cannot import name 'als' from 'fastFM' (unknown location)",
     "output_type": "error",
     "traceback": [
      "\u001b[0;31m---------------------------------------------------------------------------\u001b[0m",
      "\u001b[0;31mImportError\u001b[0m                               Traceback (most recent call last)",
      "Cell \u001b[0;32mIn[51], line 1\u001b[0m\n\u001b[0;32m----> 1\u001b[0m \u001b[38;5;28;01mfrom\u001b[39;00m \u001b[38;5;21;01mfastFM\u001b[39;00m \u001b[38;5;28;01mimport\u001b[39;00m als\n\u001b[1;32m      2\u001b[0m \u001b[38;5;66;03m# import fastFM.fastFM.als.py\u001b[39;00m\n\u001b[1;32m      3\u001b[0m \u001b[38;5;28;01mfrom\u001b[39;00m \u001b[38;5;21;01msklearn\u001b[39;00m\u001b[38;5;21;01m.\u001b[39;00m\u001b[38;5;21;01mmodel_selection\u001b[39;00m \u001b[38;5;28;01mimport\u001b[39;00m train_test_split\n",
      "\u001b[0;31mImportError\u001b[0m: cannot import name 'als' from 'fastFM' (unknown location)"
     ]
    }
   ],
   "source": [
    "# from fastFM import als\n",
    "import fastFM-core.fastFM.als.py\n",
    "from sklearn.model_selection import train_test_split\n",
    "from sklearn.metrics import mean_squared_error\n",
    "from sklearn.feature_extraction import DictVectorizer"
   ]
  },
  {
   "cell_type": "code",
   "execution_count": null,
   "metadata": {
    "id": "d9OqFQYY8Emg"
   },
   "outputs": [],
   "source": [
    "vectorizer = DictVectorizer()"
   ]
  },
  {
   "cell_type": "code",
   "execution_count": null,
   "metadata": {
    "id": "9UdxeA5x8L7i"
   },
   "outputs": [],
   "source": [
    "X_sparse = vectorizer.fit_transform(items.to_dict(orient='records'))"
   ]
  },
  {
   "cell_type": "code",
   "execution_count": null,
   "metadata": {
    "id": "Fdwp-Xk08ttu"
   },
   "outputs": [],
   "source": [
    "# X_train, X_test, y_train, y_test = train_test_split(X_sparse, target, test_size=0.2, random_state=42)"
   ]
  },
  {
   "cell_type": "code",
   "execution_count": null,
   "metadata": {
    "id": "aoFXGOpi81kQ"
   },
   "outputs": [],
   "source": [
    "model = als.FMRegression(n_iter=2000, init_stdev=0.1, rank=2, l2_reg_w=0.1, l2_reg_V=0.5)"
   ]
  },
  {
   "cell_type": "code",
   "execution_count": null,
   "metadata": {
    "colab": {
     "base_uri": "https://localhost:8080/",
     "height": 74
    },
    "id": "xI9d5T3MBz07",
    "outputId": "cde9872f-69a1-410d-d54c-37bc22ef7fc6"
   },
   "outputs": [],
   "source": [
    "model.fit(X_sparse, target)"
   ]
  },
  {
   "cell_type": "markdown",
   "metadata": {
    "id": "7k_KLFOc9PKF",
    "tags": []
   },
   "source": [
    "## Test"
   ]
  },
  {
   "cell_type": "code",
   "execution_count": null,
   "metadata": {
    "id": "r2D-whQ_GunZ"
   },
   "outputs": [],
   "source": [
    "test = test_copy.copy()"
   ]
  },
  {
   "cell_type": "code",
   "execution_count": null,
   "metadata": {
    "colab": {
     "base_uri": "https://localhost:8080/",
     "height": 439
    },
    "id": "pocvW9Ba9O9C",
    "outputId": "00ef890b-44ef-4080-a9d7-a3dc3930de6c"
   },
   "outputs": [],
   "source": [
    "test"
   ]
  },
  {
   "cell_type": "code",
   "execution_count": null,
   "metadata": {
    "id": "mI2wZ2oL9kL1"
   },
   "outputs": [],
   "source": [
    "test = test.drop('hour', axis=1)"
   ]
  },
  {
   "cell_type": "code",
   "execution_count": null,
   "metadata": {},
   "outputs": [],
   "source": [
    "for feat in cat:\n",
    "    if feat != 'click':\n",
    "        test[feat] = encoder.fit_transform(test[feat])\n",
    "\n",
    "test[num] = scaler.fit_transform(test[num])"
   ]
  },
  {
   "cell_type": "code",
   "execution_count": null,
   "metadata": {
    "id": "-PhIK5D8CK5r"
   },
   "outputs": [],
   "source": [
    "test = test.drop(['id', 'site_id', 'site_category', 'app_domain', 'device_id', 'device_ip', 'device_model', 'C19'], axis=1)"
   ]
  },
  {
   "cell_type": "code",
   "execution_count": null,
   "metadata": {
    "id": "_XRqWiKP-LdI"
   },
   "outputs": [],
   "source": [
    "test_sparse = vectorizer.fit_transform(test.to_dict(orient='records'))"
   ]
  },
  {
   "cell_type": "code",
   "execution_count": null,
   "metadata": {
    "id": "jvF5pGYw9z6K"
   },
   "outputs": [],
   "source": [
    "predictions_test = model.predict_proba(test_sparse)"
   ]
  },
  {
   "cell_type": "code",
   "execution_count": null,
   "metadata": {
    "id": "e6bh3kvO-CzV"
   },
   "outputs": [],
   "source": [
    "subission = pd.read_csv('/content/drive/MyDrive/click-trough/sampleSubmission.csv')"
   ]
  },
  {
   "cell_type": "code",
   "execution_count": null,
   "metadata": {
    "id": "JFn7oE_q-EJL"
   },
   "outputs": [],
   "source": [
    "predictions_test.shape"
   ]
  },
  {
   "cell_type": "code",
   "execution_count": null,
   "metadata": {
    "id": "tXxx3qDS-Qcb"
   },
   "outputs": [],
   "source": [
    "subission['click'] = predictions_test"
   ]
  },
  {
   "cell_type": "code",
   "execution_count": null,
   "metadata": {
    "id": "m-Mp-A3M-WPv"
   },
   "outputs": [],
   "source": [
    "subission.to_csv('itog_sampleSubmission_FM-FA.csv',index=False)"
   ]
  },
  {
   "cell_type": "markdown",
   "metadata": {
    "jp-MarkdownHeadingCollapsed": true,
    "tags": []
   },
   "source": [
    "# Factorization Machines + FA"
   ]
  },
  {
   "cell_type": "markdown",
   "metadata": {
    "id": "r9xFpgoHbujm",
    "tags": []
   },
   "source": [
    "## Факторный анализ\n"
   ]
  },
  {
   "cell_type": "code",
   "execution_count": null,
   "metadata": {
    "id": "t394dv3RV9Gy"
   },
   "outputs": [],
   "source": [
    "from sklearn.decomposition import PCA"
   ]
  },
  {
   "cell_type": "code",
   "execution_count": null,
   "metadata": {
    "id": "stlmGzQWzS_Y"
   },
   "outputs": [],
   "source": [
    "n_components = 7  # Задайте желаемое количество факторов\n",
    "fa = PCA(n_components=n_components)"
   ]
  },
  {
   "cell_type": "code",
   "execution_count": null,
   "metadata": {
    "id": "x2kmbTrn2BvV"
   },
   "outputs": [],
   "source": [
    "X_fa = fa.fit_transform(items)"
   ]
  },
  {
   "cell_type": "code",
   "execution_count": null,
   "metadata": {
    "id": "6hVbf9BIdeif"
   },
   "outputs": [],
   "source": [
    "X_fa = pd.DataFrame(fa.components_, columns=items.columns)"
   ]
  },
  {
   "cell_type": "code",
   "execution_count": null,
   "metadata": {
    "id": "rcdEc5k7p_j9"
   },
   "outputs": [],
   "source": [
    "X_fa"
   ]
  },
  {
   "cell_type": "code",
   "execution_count": null,
   "metadata": {
    "id": "DSyixjjZvB2j"
   },
   "outputs": [],
   "source": [
    "fa.explained_variance_ratio_"
   ]
  },
  {
   "cell_type": "code",
   "execution_count": null,
   "metadata": {
    "id": "iP7t9IkMvKiR"
   },
   "outputs": [],
   "source": [
    "items.shape"
   ]
  },
  {
   "cell_type": "code",
   "execution_count": null,
   "metadata": {
    "id": "3ghQr-VvvIgN"
   },
   "outputs": [],
   "source": [
    "items_fa = pd.DataFrame(fa.transform(items), columns=fa.get_feature_names_out())"
   ]
  },
  {
   "cell_type": "code",
   "execution_count": null,
   "metadata": {
    "id": "yWD0iSqWvR18"
   },
   "outputs": [],
   "source": [
    "items_fa.shape"
   ]
  },
  {
   "cell_type": "code",
   "execution_count": null,
   "metadata": {
    "id": "CWVFZeUSUU2j"
   },
   "outputs": [],
   "source": [
    "items_fa"
   ]
  },
  {
   "cell_type": "markdown",
   "metadata": {
    "id": "-9SV3khI0X7g",
    "tags": []
   },
   "source": [
    "## Factorization Machines"
   ]
  },
  {
   "cell_type": "code",
   "execution_count": null,
   "metadata": {
    "id": "jYyPe4-n0e6L"
   },
   "outputs": [],
   "source": [
    "!pip install fastFM"
   ]
  },
  {
   "cell_type": "code",
   "execution_count": null,
   "metadata": {
    "id": "uCu1hpI70lc6"
   },
   "outputs": [],
   "source": [
    "from fastFM import als\n",
    "from sklearn.model_selection import train_test_split\n",
    "from sklearn.metrics import mean_squared_error\n",
    "from sklearn.feature_extraction import DictVectorizer"
   ]
  },
  {
   "cell_type": "code",
   "execution_count": null,
   "metadata": {
    "id": "2wviHVyaaWic"
   },
   "outputs": [],
   "source": [
    "items_fa"
   ]
  },
  {
   "cell_type": "code",
   "execution_count": null,
   "metadata": {
    "id": "LI-aYFth_gXI"
   },
   "outputs": [],
   "source": [
    "vectorizer = DictVectorizer()"
   ]
  },
  {
   "cell_type": "code",
   "execution_count": null,
   "metadata": {
    "id": "K79nEoEl_kVb"
   },
   "outputs": [],
   "source": [
    "X_sparse = vectorizer.fit_transform(items_fa.to_dict(orient='records'))"
   ]
  },
  {
   "cell_type": "code",
   "execution_count": null,
   "metadata": {
    "id": "ePaRHpUD1rhh"
   },
   "outputs": [],
   "source": [
    "# X = items_fa[['pca0', 'pca1', 'pca2', 'pca3', 'pca4', 'pca5', 'pca6']].values\n",
    "# y = target.values"
   ]
  },
  {
   "cell_type": "code",
   "execution_count": null,
   "metadata": {
    "id": "9PZvEcon-9dp"
   },
   "outputs": [],
   "source": [
    "# X = items[list(items.columns)].values\n",
    "# y = target.values"
   ]
  },
  {
   "cell_type": "code",
   "execution_count": null,
   "metadata": {
    "id": "uq2PUdlW1raC"
   },
   "outputs": [],
   "source": [
    "X_train, X_test, y_train, y_test = train_test_split(X_sparse, target, test_size=0.1, random_state=42)"
   ]
  },
  {
   "cell_type": "code",
   "execution_count": null,
   "metadata": {
    "id": "MTV7LhGGa5sl"
   },
   "outputs": [],
   "source": [
    "model = als.FMRegression(n_iter=1000, init_stdev=0.1, rank=2, l2_reg_w=0.1, l2_reg_V=0.5)"
   ]
  },
  {
   "cell_type": "code",
   "execution_count": null,
   "metadata": {
    "id": "7AGhjfdua-Sk"
   },
   "outputs": [],
   "source": [
    "model.fit(X_train, y_train)"
   ]
  },
  {
   "cell_type": "code",
   "execution_count": null,
   "metadata": {
    "id": "DcHNtV71Aqu2"
   },
   "outputs": [],
   "source": [
    "predictions = model.predict(X_test)"
   ]
  },
  {
   "cell_type": "code",
   "execution_count": null,
   "metadata": {
    "id": "Y_Uts-xSALTt"
   },
   "outputs": [],
   "source": [
    "mse = mean_squared_error(y_test, predictions)\n",
    "print(f'Mean Squared Error: {mse}')"
   ]
  },
  {
   "cell_type": "markdown",
   "metadata": {
    "id": "8icSJyntB5Tk",
    "jp-MarkdownHeadingCollapsed": true,
    "tags": []
   },
   "source": [
    "### Test"
   ]
  },
  {
   "cell_type": "code",
   "execution_count": null,
   "metadata": {
    "id": "6H926BaqBPft"
   },
   "outputs": [],
   "source": [
    "test = pd.read_csv('test-2.csv')"
   ]
  },
  {
   "cell_type": "code",
   "execution_count": null,
   "metadata": {
    "id": "6dUNA4mMEh2k"
   },
   "outputs": [],
   "source": [
    "test_copy = test.copy()"
   ]
  },
  {
   "cell_type": "code",
   "execution_count": null,
   "metadata": {
    "id": "NoHuhxt4BUP8"
   },
   "outputs": [],
   "source": [
    "test"
   ]
  },
  {
   "cell_type": "code",
   "execution_count": null,
   "metadata": {
    "id": "-CU3myCUCyJB"
   },
   "outputs": [],
   "source": [
    "test['hour'] = pd.to_datetime(test['hour'], format = '%y%m%d%H')"
   ]
  },
  {
   "cell_type": "code",
   "execution_count": null,
   "metadata": {
    "id": "YPN0yM1uB9pn"
   },
   "outputs": [],
   "source": [
    "year = []\n",
    "month = []\n",
    "day = []\n",
    "hour = []\n",
    "\n",
    "for item in test['hour'].map(str):\n",
    "    date_obj = datetime.strptime(item, '%Y-%m-%d %H:%M:%S')\n",
    "\n",
    "\n",
    "    year.append(date_obj.year)\n",
    "    month.append(date_obj.month)\n",
    "    day.append(date_obj.day)\n",
    "    hour.append(date_obj.hour)\n",
    "\n",
    "print(len(year))\n",
    "\n",
    "test.insert(loc=0, column='year', value=year)\n",
    "test.insert(loc=0, column='month', value=month)\n",
    "test.insert(loc=0, column='day', value=day)\n",
    "test.insert(loc=0, column='time', value=hour)"
   ]
  },
  {
   "cell_type": "code",
   "execution_count": null,
   "metadata": {
    "id": "CjKLq1r0CLKo"
   },
   "outputs": [],
   "source": [
    "test['site_category'] = test['site_category'].astype('category')\n",
    "test['site_category'] = test['site_category'].cat.codes\n",
    "\n",
    "test['app_category'] = test['app_category'].astype('category')\n",
    "test['app_category'] = test['app_category'].cat.codes"
   ]
  },
  {
   "cell_type": "code",
   "execution_count": null,
   "metadata": {
    "id": "G4v_vOwdCRBj"
   },
   "outputs": [],
   "source": [
    "test = test.drop(['site_id', 'app_id', 'device_id', 'device_ip', 'id', 'device_model', 'hour', 'month', 'year', 'site_domain', 'app_domain'], axis=1)"
   ]
  },
  {
   "cell_type": "code",
   "execution_count": null,
   "metadata": {
    "id": "nNvpLommPUsX"
   },
   "outputs": [],
   "source": [
    "test_items_scaled = scaler.transform(test)"
   ]
  },
  {
   "cell_type": "code",
   "execution_count": null,
   "metadata": {
    "id": "WYfJ76iyBtO2"
   },
   "outputs": [],
   "source": [
    "test_items = pd.DataFrame(test_items_scaled, columns=train.drop('click', axis=1).columns)"
   ]
  },
  {
   "cell_type": "code",
   "execution_count": null,
   "metadata": {
    "id": "dxthrAazBX6k"
   },
   "outputs": [],
   "source": [
    "test_items_fa = pd.DataFrame(fa.transform(test_items), columns=fa.get_feature_names_out())"
   ]
  },
  {
   "cell_type": "code",
   "execution_count": null,
   "metadata": {
    "id": "eJbQUJ1bD8b5"
   },
   "outputs": [],
   "source": [
    "test_items_fa"
   ]
  },
  {
   "cell_type": "code",
   "execution_count": null,
   "metadata": {
    "id": "0lGw1Ui5EHZu"
   },
   "outputs": [],
   "source": [
    "test_sparse = vectorizer.fit_transform(test_items_fa.to_dict(orient='records'))"
   ]
  },
  {
   "cell_type": "code",
   "execution_count": null,
   "metadata": {
    "id": "ogAuEwOiBVFx"
   },
   "outputs": [],
   "source": [
    "predictions_test = model.predict(test_sparse)"
   ]
  },
  {
   "cell_type": "code",
   "execution_count": null,
   "metadata": {
    "id": "sZkt1Pt-Bh76"
   },
   "outputs": [],
   "source": [
    "predictions_test.shape"
   ]
  },
  {
   "cell_type": "code",
   "execution_count": null,
   "metadata": {
    "id": "Kz9YNhqfGgg5"
   },
   "outputs": [],
   "source": [
    "data = {\n",
    "    'id': test_copy[\"id\"].values.tolist(),\n",
    "    'click': predictions_test.tolist()\n",
    "}"
   ]
  },
  {
   "cell_type": "code",
   "execution_count": null,
   "metadata": {
    "id": "t4tIns7NFWpc"
   },
   "outputs": [],
   "source": [
    "subission = pd.DataFrame(data, columns=[\"id\", \"click\"])"
   ]
  },
  {
   "cell_type": "code",
   "execution_count": null,
   "metadata": {
    "id": "8mcSC4rmFv9P"
   },
   "outputs": [],
   "source": [
    "subission"
   ]
  },
  {
   "cell_type": "code",
   "execution_count": null,
   "metadata": {
    "id": "bx_ONZJ4Qsjy"
   },
   "outputs": [],
   "source": [
    "subission.to_csv('/content/drive/MyDrive/click-trough/submission.csv',index=False)"
   ]
  },
  {
   "cell_type": "code",
   "execution_count": null,
   "metadata": {
    "id": "lxjc1uzCXzmd"
   },
   "outputs": [],
   "source": [
    "subission_1 = pd.read_csv('/content/drive/MyDrive/click-trough/sampleSubmission.csv')"
   ]
  },
  {
   "cell_type": "code",
   "execution_count": null,
   "metadata": {
    "id": "InRdtT0aX8IA"
   },
   "outputs": [],
   "source": [
    "subission_1['click'] = predictions_test"
   ]
  },
  {
   "cell_type": "code",
   "execution_count": null,
   "metadata": {
    "id": "Mr2XoBvHYmEZ"
   },
   "outputs": [],
   "source": [
    "subission_1"
   ]
  },
  {
   "cell_type": "code",
   "execution_count": null,
   "metadata": {
    "id": "egUJm9KyYp91"
   },
   "outputs": [],
   "source": [
    "subission_1.to_csv('/content/drive/MyDrive/click-trough/itog_sampleSubmission.csv',index=False)"
   ]
  },
  {
   "cell_type": "markdown",
   "metadata": {
    "tags": []
   },
   "source": [
    "# Classic"
   ]
  },
  {
   "cell_type": "markdown",
   "metadata": {
    "jp-MarkdownHeadingCollapsed": true,
    "tags": []
   },
   "source": [
    "## SGDClassifier"
   ]
  },
  {
   "cell_type": "code",
   "execution_count": 50,
   "metadata": {},
   "outputs": [],
   "source": [
    "from sklearn.linear_model import SGDClassifier"
   ]
  },
  {
   "cell_type": "code",
   "execution_count": 80,
   "metadata": {},
   "outputs": [],
   "source": [
    "sgd = SGDClassifier(\n",
    "    loss='log_loss',\n",
    "    penalty='l2',\n",
    "    n_iter_no_change=80,\n",
    "    shuffle=True,\n",
    "    max_iter=10000,\n",
    "    warm_start=True\n",
    ")"
   ]
  },
  {
   "cell_type": "code",
   "execution_count": 81,
   "metadata": {},
   "outputs": [
    {
     "data": {
      "text/plain": [
       "array([0, 1])"
      ]
     },
     "execution_count": 81,
     "metadata": {},
     "output_type": "execute_result"
    }
   ],
   "source": [
    "np.unique(target)"
   ]
  },
  {
   "cell_type": "code",
   "execution_count": 82,
   "metadata": {},
   "outputs": [
    {
     "data": {
      "text/html": [
       "<style>#sk-container-id-4 {color: black;}#sk-container-id-4 pre{padding: 0;}#sk-container-id-4 div.sk-toggleable {background-color: white;}#sk-container-id-4 label.sk-toggleable__label {cursor: pointer;display: block;width: 100%;margin-bottom: 0;padding: 0.3em;box-sizing: border-box;text-align: center;}#sk-container-id-4 label.sk-toggleable__label-arrow:before {content: \"▸\";float: left;margin-right: 0.25em;color: #696969;}#sk-container-id-4 label.sk-toggleable__label-arrow:hover:before {color: black;}#sk-container-id-4 div.sk-estimator:hover label.sk-toggleable__label-arrow:before {color: black;}#sk-container-id-4 div.sk-toggleable__content {max-height: 0;max-width: 0;overflow: hidden;text-align: left;background-color: #f0f8ff;}#sk-container-id-4 div.sk-toggleable__content pre {margin: 0.2em;color: black;border-radius: 0.25em;background-color: #f0f8ff;}#sk-container-id-4 input.sk-toggleable__control:checked~div.sk-toggleable__content {max-height: 200px;max-width: 100%;overflow: auto;}#sk-container-id-4 input.sk-toggleable__control:checked~label.sk-toggleable__label-arrow:before {content: \"▾\";}#sk-container-id-4 div.sk-estimator input.sk-toggleable__control:checked~label.sk-toggleable__label {background-color: #d4ebff;}#sk-container-id-4 div.sk-label input.sk-toggleable__control:checked~label.sk-toggleable__label {background-color: #d4ebff;}#sk-container-id-4 input.sk-hidden--visually {border: 0;clip: rect(1px 1px 1px 1px);clip: rect(1px, 1px, 1px, 1px);height: 1px;margin: -1px;overflow: hidden;padding: 0;position: absolute;width: 1px;}#sk-container-id-4 div.sk-estimator {font-family: monospace;background-color: #f0f8ff;border: 1px dotted black;border-radius: 0.25em;box-sizing: border-box;margin-bottom: 0.5em;}#sk-container-id-4 div.sk-estimator:hover {background-color: #d4ebff;}#sk-container-id-4 div.sk-parallel-item::after {content: \"\";width: 100%;border-bottom: 1px solid gray;flex-grow: 1;}#sk-container-id-4 div.sk-label:hover label.sk-toggleable__label {background-color: #d4ebff;}#sk-container-id-4 div.sk-serial::before {content: \"\";position: absolute;border-left: 1px solid gray;box-sizing: border-box;top: 0;bottom: 0;left: 50%;z-index: 0;}#sk-container-id-4 div.sk-serial {display: flex;flex-direction: column;align-items: center;background-color: white;padding-right: 0.2em;padding-left: 0.2em;position: relative;}#sk-container-id-4 div.sk-item {position: relative;z-index: 1;}#sk-container-id-4 div.sk-parallel {display: flex;align-items: stretch;justify-content: center;background-color: white;position: relative;}#sk-container-id-4 div.sk-item::before, #sk-container-id-4 div.sk-parallel-item::before {content: \"\";position: absolute;border-left: 1px solid gray;box-sizing: border-box;top: 0;bottom: 0;left: 50%;z-index: -1;}#sk-container-id-4 div.sk-parallel-item {display: flex;flex-direction: column;z-index: 1;position: relative;background-color: white;}#sk-container-id-4 div.sk-parallel-item:first-child::after {align-self: flex-end;width: 50%;}#sk-container-id-4 div.sk-parallel-item:last-child::after {align-self: flex-start;width: 50%;}#sk-container-id-4 div.sk-parallel-item:only-child::after {width: 0;}#sk-container-id-4 div.sk-dashed-wrapped {border: 1px dashed gray;margin: 0 0.4em 0.5em 0.4em;box-sizing: border-box;padding-bottom: 0.4em;background-color: white;}#sk-container-id-4 div.sk-label label {font-family: monospace;font-weight: bold;display: inline-block;line-height: 1.2em;}#sk-container-id-4 div.sk-label-container {text-align: center;}#sk-container-id-4 div.sk-container {/* jupyter's `normalize.less` sets `[hidden] { display: none; }` but bootstrap.min.css set `[hidden] { display: none !important; }` so we also need the `!important` here to be able to override the default hidden behavior on the sphinx rendered scikit-learn.org. See: https://github.com/scikit-learn/scikit-learn/issues/21755 */display: inline-block !important;position: relative;}#sk-container-id-4 div.sk-text-repr-fallback {display: none;}</style><div id=\"sk-container-id-4\" class=\"sk-top-container\"><div class=\"sk-text-repr-fallback\"><pre>SGDClassifier(loss=&#x27;log_loss&#x27;, max_iter=10000, n_iter_no_change=80,\n",
       "              warm_start=True)</pre><b>In a Jupyter environment, please rerun this cell to show the HTML representation or trust the notebook. <br />On GitHub, the HTML representation is unable to render, please try loading this page with nbviewer.org.</b></div><div class=\"sk-container\" hidden><div class=\"sk-item\"><div class=\"sk-estimator sk-toggleable\"><input class=\"sk-toggleable__control sk-hidden--visually\" id=\"sk-estimator-id-4\" type=\"checkbox\" checked><label for=\"sk-estimator-id-4\" class=\"sk-toggleable__label sk-toggleable__label-arrow\">SGDClassifier</label><div class=\"sk-toggleable__content\"><pre>SGDClassifier(loss=&#x27;log_loss&#x27;, max_iter=10000, n_iter_no_change=80,\n",
       "              warm_start=True)</pre></div></div></div></div></div>"
      ],
      "text/plain": [
       "SGDClassifier(loss='log_loss', max_iter=10000, n_iter_no_change=80,\n",
       "              warm_start=True)"
      ]
     },
     "execution_count": 82,
     "metadata": {},
     "output_type": "execute_result"
    }
   ],
   "source": [
    "sgd.partial_fit(items, target, classes=np.unique(target))"
   ]
  },
  {
   "cell_type": "markdown",
   "metadata": {
    "id": "7k_KLFOc9PKF",
    "tags": []
   },
   "source": [
    "### Test"
   ]
  },
  {
   "cell_type": "code",
   "execution_count": 83,
   "metadata": {},
   "outputs": [],
   "source": [
    "test = test_copy.copy()"
   ]
  },
  {
   "cell_type": "code",
   "execution_count": 84,
   "metadata": {},
   "outputs": [],
   "source": [
    "test = test.drop('hour', axis=1)"
   ]
  },
  {
   "cell_type": "code",
   "execution_count": 85,
   "metadata": {},
   "outputs": [],
   "source": [
    "# for feat in cat:\n",
    "#     if feat != 'click':\n",
    "#         test[feat] = encoder.fit_transform(test[feat])\n",
    "\n",
    "# test[num] = scaler.fit_transform(test[num])"
   ]
  },
  {
   "cell_type": "code",
   "execution_count": 86,
   "metadata": {},
   "outputs": [],
   "source": [
    "test[\"site_domain\"] = test['site_domain'].apply(hex_to_int)\n",
    "test[\"app_domain\"] = test['app_domain'].apply(hex_to_int)\n",
    "test[\"device_id\"] = test['device_id'].apply(hex_to_int)\n",
    "test[\"device_model\"] = test['device_model'].apply(hex_to_int)\n",
    "test[\"site_id\"] = test['site_id'].apply(hex_to_int)\n",
    "test[\"app_id\"] = test['app_id'].apply(hex_to_int)\n",
    "test[\"device_ip\"] = test['device_ip'].apply(hex_to_int)"
   ]
  },
  {
   "cell_type": "code",
   "execution_count": 87,
   "metadata": {},
   "outputs": [],
   "source": [
    "test['site_category'] = test['site_category'].astype('category')\n",
    "test['site_category'] = test['site_category'].cat.codes\n",
    "\n",
    "test['app_category'] = test['app_category'].astype('category')\n",
    "test['app_category'] = test['app_category'].cat.codes"
   ]
  },
  {
   "cell_type": "code",
   "execution_count": 88,
   "metadata": {},
   "outputs": [],
   "source": [
    "test = test.drop(['id', 'site_id', 'site_category', 'app_domain', 'device_id', 'device_ip', 'device_model', 'C18', 'C19'], axis=1)"
   ]
  },
  {
   "cell_type": "code",
   "execution_count": 89,
   "metadata": {},
   "outputs": [],
   "source": [
    "predictions_test = sgd.predict(test)"
   ]
  },
  {
   "cell_type": "code",
   "execution_count": 90,
   "metadata": {},
   "outputs": [],
   "source": [
    "subission = pd.read_csv('sampleSubmission.csv')"
   ]
  },
  {
   "cell_type": "code",
   "execution_count": 91,
   "metadata": {},
   "outputs": [],
   "source": [
    "subission['click'] = predictions_test"
   ]
  },
  {
   "cell_type": "code",
   "execution_count": 92,
   "metadata": {},
   "outputs": [
    {
     "data": {
      "text/html": [
       "<div>\n",
       "<style scoped>\n",
       "    .dataframe tbody tr th:only-of-type {\n",
       "        vertical-align: middle;\n",
       "    }\n",
       "\n",
       "    .dataframe tbody tr th {\n",
       "        vertical-align: top;\n",
       "    }\n",
       "\n",
       "    .dataframe thead th {\n",
       "        text-align: right;\n",
       "    }\n",
       "</style>\n",
       "<table border=\"1\" class=\"dataframe\">\n",
       "  <thead>\n",
       "    <tr style=\"text-align: right;\">\n",
       "      <th></th>\n",
       "      <th>id</th>\n",
       "      <th>click</th>\n",
       "    </tr>\n",
       "  </thead>\n",
       "  <tbody>\n",
       "  </tbody>\n",
       "</table>\n",
       "</div>"
      ],
      "text/plain": [
       "Empty DataFrame\n",
       "Columns: [id, click]\n",
       "Index: []"
      ]
     },
     "execution_count": 92,
     "metadata": {},
     "output_type": "execute_result"
    }
   ],
   "source": [
    "subission[subission['click'] == 1]"
   ]
  },
  {
   "cell_type": "code",
   "execution_count": 124,
   "metadata": {},
   "outputs": [
    {
     "data": {
      "text/plain": [
       "(4577464, 2)"
      ]
     },
     "execution_count": 124,
     "metadata": {},
     "output_type": "execute_result"
    }
   ],
   "source": [
    "subission.shape"
   ]
  },
  {
   "cell_type": "code",
   "execution_count": 93,
   "metadata": {},
   "outputs": [],
   "source": [
    "subission.to_csv('SGD_submission.csv', index=False)"
   ]
  },
  {
   "cell_type": "markdown",
   "metadata": {
    "jp-MarkdownHeadingCollapsed": true,
    "tags": []
   },
   "source": [
    "## SGDClassifier + FA"
   ]
  },
  {
   "cell_type": "markdown",
   "metadata": {
    "tags": []
   },
   "source": [
    "## Факторный анализ"
   ]
  },
  {
   "cell_type": "code",
   "execution_count": 316,
   "metadata": {},
   "outputs": [],
   "source": [
    "from sklearn.decomposition import PCA"
   ]
  },
  {
   "cell_type": "code",
   "execution_count": 317,
   "metadata": {},
   "outputs": [],
   "source": [
    "n_components = 6  # Задайте желаемое количество факторов\n",
    "fa = PCA(n_components=n_components)"
   ]
  },
  {
   "cell_type": "code",
   "execution_count": 318,
   "metadata": {},
   "outputs": [],
   "source": [
    "X_fa = fa.fit_transform(items)"
   ]
  },
  {
   "cell_type": "code",
   "execution_count": 319,
   "metadata": {},
   "outputs": [],
   "source": [
    "X_fa = pd.DataFrame(fa.components_, columns=train.drop('click', axis=1).columns)"
   ]
  },
  {
   "cell_type": "code",
   "execution_count": 320,
   "metadata": {},
   "outputs": [
    {
     "data": {
      "text/html": [
       "<div>\n",
       "<style scoped>\n",
       "    .dataframe tbody tr th:only-of-type {\n",
       "        vertical-align: middle;\n",
       "    }\n",
       "\n",
       "    .dataframe tbody tr th {\n",
       "        vertical-align: top;\n",
       "    }\n",
       "\n",
       "    .dataframe thead th {\n",
       "        text-align: right;\n",
       "    }\n",
       "</style>\n",
       "<table border=\"1\" class=\"dataframe\">\n",
       "  <thead>\n",
       "    <tr style=\"text-align: right;\">\n",
       "      <th></th>\n",
       "      <th>id</th>\n",
       "      <th>C1</th>\n",
       "      <th>banner_pos</th>\n",
       "      <th>site_id</th>\n",
       "      <th>site_domain</th>\n",
       "      <th>site_category</th>\n",
       "      <th>app_id</th>\n",
       "      <th>app_domain</th>\n",
       "      <th>app_category</th>\n",
       "      <th>device_id</th>\n",
       "      <th>...</th>\n",
       "      <th>device_type</th>\n",
       "      <th>device_conn_type</th>\n",
       "      <th>C14</th>\n",
       "      <th>C15</th>\n",
       "      <th>C16</th>\n",
       "      <th>C17</th>\n",
       "      <th>C18</th>\n",
       "      <th>C19</th>\n",
       "      <th>C20</th>\n",
       "      <th>C21</th>\n",
       "    </tr>\n",
       "  </thead>\n",
       "  <tbody>\n",
       "    <tr>\n",
       "      <th>0</th>\n",
       "      <td>-1.000000e+00</td>\n",
       "      <td>8.158877e-23</td>\n",
       "      <td>5.544590e-23</td>\n",
       "      <td>-7.528360e-13</td>\n",
       "      <td>-2.680894e-13</td>\n",
       "      <td>-4.789978e-22</td>\n",
       "      <td>4.667316e-13</td>\n",
       "      <td>-3.534137e-13</td>\n",
       "      <td>-1.607313e-21</td>\n",
       "      <td>-1.449579e-13</td>\n",
       "      <td>...</td>\n",
       "      <td>4.208439e-23</td>\n",
       "      <td>-3.312189e-22</td>\n",
       "      <td>5.203134e-23</td>\n",
       "      <td>1.059199e-22</td>\n",
       "      <td>2.648914e-22</td>\n",
       "      <td>6.857920e-23</td>\n",
       "      <td>3.433366e-23</td>\n",
       "      <td>-5.537265e-22</td>\n",
       "      <td>1.198399e-22</td>\n",
       "      <td>1.328897e-22</td>\n",
       "    </tr>\n",
       "    <tr>\n",
       "      <th>1</th>\n",
       "      <td>-1.268774e-13</td>\n",
       "      <td>3.094525e-12</td>\n",
       "      <td>7.846818e-12</td>\n",
       "      <td>2.747466e-02</td>\n",
       "      <td>-2.284932e-02</td>\n",
       "      <td>1.378341e-10</td>\n",
       "      <td>-1.251628e-04</td>\n",
       "      <td>-3.173075e-03</td>\n",
       "      <td>-1.427968e-12</td>\n",
       "      <td>7.207516e-04</td>\n",
       "      <td>...</td>\n",
       "      <td>2.090667e-12</td>\n",
       "      <td>-4.541444e-12</td>\n",
       "      <td>2.077873e-12</td>\n",
       "      <td>2.915114e-13</td>\n",
       "      <td>1.964729e-12</td>\n",
       "      <td>1.767925e-12</td>\n",
       "      <td>1.335494e-11</td>\n",
       "      <td>-1.204683e-12</td>\n",
       "      <td>3.671987e-12</td>\n",
       "      <td>-5.576621e-12</td>\n",
       "    </tr>\n",
       "    <tr>\n",
       "      <th>2</th>\n",
       "      <td>-2.231421e-13</td>\n",
       "      <td>6.556905e-11</td>\n",
       "      <td>6.844315e-11</td>\n",
       "      <td>2.108166e-01</td>\n",
       "      <td>-1.633903e-01</td>\n",
       "      <td>1.038983e-09</td>\n",
       "      <td>-1.269730e-02</td>\n",
       "      <td>1.271924e-02</td>\n",
       "      <td>-5.022643e-11</td>\n",
       "      <td>-2.524378e-03</td>\n",
       "      <td>...</td>\n",
       "      <td>3.229232e-11</td>\n",
       "      <td>-5.934681e-12</td>\n",
       "      <td>-2.668007e-11</td>\n",
       "      <td>-9.098321e-12</td>\n",
       "      <td>6.460530e-13</td>\n",
       "      <td>-2.851009e-11</td>\n",
       "      <td>1.049301e-10</td>\n",
       "      <td>1.493988e-11</td>\n",
       "      <td>3.294736e-11</td>\n",
       "      <td>-5.940199e-11</td>\n",
       "    </tr>\n",
       "    <tr>\n",
       "      <th>3</th>\n",
       "      <td>-8.590191e-14</td>\n",
       "      <td>-1.479346e-10</td>\n",
       "      <td>1.860432e-10</td>\n",
       "      <td>5.735891e-01</td>\n",
       "      <td>-6.958654e-01</td>\n",
       "      <td>3.726448e-09</td>\n",
       "      <td>3.482555e-01</td>\n",
       "      <td>7.298798e-02</td>\n",
       "      <td>-1.300448e-09</td>\n",
       "      <td>3.916495e-02</td>\n",
       "      <td>...</td>\n",
       "      <td>-7.132310e-11</td>\n",
       "      <td>-1.328059e-10</td>\n",
       "      <td>-2.163124e-11</td>\n",
       "      <td>-4.253690e-11</td>\n",
       "      <td>6.482114e-11</td>\n",
       "      <td>-3.503155e-11</td>\n",
       "      <td>2.061980e-10</td>\n",
       "      <td>4.380324e-11</td>\n",
       "      <td>7.319020e-11</td>\n",
       "      <td>-1.429566e-10</td>\n",
       "    </tr>\n",
       "    <tr>\n",
       "      <th>4</th>\n",
       "      <td>-7.529247e-13</td>\n",
       "      <td>1.556851e-10</td>\n",
       "      <td>2.182356e-12</td>\n",
       "      <td>6.070783e-01</td>\n",
       "      <td>1.440801e-01</td>\n",
       "      <td>-1.963826e-10</td>\n",
       "      <td>-7.449072e-01</td>\n",
       "      <td>-1.708633e-01</td>\n",
       "      <td>2.643311e-09</td>\n",
       "      <td>-1.134696e-01</td>\n",
       "      <td>...</td>\n",
       "      <td>8.788474e-11</td>\n",
       "      <td>2.389285e-10</td>\n",
       "      <td>2.788070e-11</td>\n",
       "      <td>4.321659e-11</td>\n",
       "      <td>-7.373720e-11</td>\n",
       "      <td>3.795982e-11</td>\n",
       "      <td>1.699589e-10</td>\n",
       "      <td>2.285752e-11</td>\n",
       "      <td>1.858122e-11</td>\n",
       "      <td>-2.848653e-11</td>\n",
       "    </tr>\n",
       "    <tr>\n",
       "      <th>5</th>\n",
       "      <td>3.962912e-13</td>\n",
       "      <td>4.117517e-11</td>\n",
       "      <td>4.197893e-11</td>\n",
       "      <td>-5.070672e-01</td>\n",
       "      <td>-6.834104e-01</td>\n",
       "      <td>5.543310e-10</td>\n",
       "      <td>-4.979520e-01</td>\n",
       "      <td>-1.392414e-01</td>\n",
       "      <td>9.295169e-10</td>\n",
       "      <td>-9.157351e-02</td>\n",
       "      <td>...</td>\n",
       "      <td>4.252453e-11</td>\n",
       "      <td>8.463239e-11</td>\n",
       "      <td>3.206424e-11</td>\n",
       "      <td>-3.081334e-11</td>\n",
       "      <td>1.318400e-10</td>\n",
       "      <td>1.699860e-11</td>\n",
       "      <td>-7.488643e-12</td>\n",
       "      <td>-2.979649e-11</td>\n",
       "      <td>-1.631001e-12</td>\n",
       "      <td>4.232002e-11</td>\n",
       "    </tr>\n",
       "  </tbody>\n",
       "</table>\n",
       "<p>6 rows × 22 columns</p>\n",
       "</div>"
      ],
      "text/plain": [
       "             id            C1    banner_pos       site_id   site_domain  \\\n",
       "0 -1.000000e+00  8.158877e-23  5.544590e-23 -7.528360e-13 -2.680894e-13   \n",
       "1 -1.268774e-13  3.094525e-12  7.846818e-12  2.747466e-02 -2.284932e-02   \n",
       "2 -2.231421e-13  6.556905e-11  6.844315e-11  2.108166e-01 -1.633903e-01   \n",
       "3 -8.590191e-14 -1.479346e-10  1.860432e-10  5.735891e-01 -6.958654e-01   \n",
       "4 -7.529247e-13  1.556851e-10  2.182356e-12  6.070783e-01  1.440801e-01   \n",
       "5  3.962912e-13  4.117517e-11  4.197893e-11 -5.070672e-01 -6.834104e-01   \n",
       "\n",
       "   site_category        app_id    app_domain  app_category     device_id  ...  \\\n",
       "0  -4.789978e-22  4.667316e-13 -3.534137e-13 -1.607313e-21 -1.449579e-13  ...   \n",
       "1   1.378341e-10 -1.251628e-04 -3.173075e-03 -1.427968e-12  7.207516e-04  ...   \n",
       "2   1.038983e-09 -1.269730e-02  1.271924e-02 -5.022643e-11 -2.524378e-03  ...   \n",
       "3   3.726448e-09  3.482555e-01  7.298798e-02 -1.300448e-09  3.916495e-02  ...   \n",
       "4  -1.963826e-10 -7.449072e-01 -1.708633e-01  2.643311e-09 -1.134696e-01  ...   \n",
       "5   5.543310e-10 -4.979520e-01 -1.392414e-01  9.295169e-10 -9.157351e-02  ...   \n",
       "\n",
       "    device_type  device_conn_type           C14           C15           C16  \\\n",
       "0  4.208439e-23     -3.312189e-22  5.203134e-23  1.059199e-22  2.648914e-22   \n",
       "1  2.090667e-12     -4.541444e-12  2.077873e-12  2.915114e-13  1.964729e-12   \n",
       "2  3.229232e-11     -5.934681e-12 -2.668007e-11 -9.098321e-12  6.460530e-13   \n",
       "3 -7.132310e-11     -1.328059e-10 -2.163124e-11 -4.253690e-11  6.482114e-11   \n",
       "4  8.788474e-11      2.389285e-10  2.788070e-11  4.321659e-11 -7.373720e-11   \n",
       "5  4.252453e-11      8.463239e-11  3.206424e-11 -3.081334e-11  1.318400e-10   \n",
       "\n",
       "            C17           C18           C19           C20           C21  \n",
       "0  6.857920e-23  3.433366e-23 -5.537265e-22  1.198399e-22  1.328897e-22  \n",
       "1  1.767925e-12  1.335494e-11 -1.204683e-12  3.671987e-12 -5.576621e-12  \n",
       "2 -2.851009e-11  1.049301e-10  1.493988e-11  3.294736e-11 -5.940199e-11  \n",
       "3 -3.503155e-11  2.061980e-10  4.380324e-11  7.319020e-11 -1.429566e-10  \n",
       "4  3.795982e-11  1.699589e-10  2.285752e-11  1.858122e-11 -2.848653e-11  \n",
       "5  1.699860e-11 -7.488643e-12 -2.979649e-11 -1.631001e-12  4.232002e-11  \n",
       "\n",
       "[6 rows x 22 columns]"
      ]
     },
     "execution_count": 320,
     "metadata": {},
     "output_type": "execute_result"
    }
   ],
   "source": [
    "X_fa"
   ]
  },
  {
   "cell_type": "code",
   "execution_count": 321,
   "metadata": {},
   "outputs": [
    {
     "data": {
      "text/plain": [
       "array([1.00000000e+00, 5.37719624e-20, 5.22244098e-20, 4.83233976e-20,\n",
       "       4.15715877e-20, 2.26451111e-20])"
      ]
     },
     "execution_count": 321,
     "metadata": {},
     "output_type": "execute_result"
    }
   ],
   "source": [
    "fa.explained_variance_ratio_"
   ]
  },
  {
   "cell_type": "code",
   "execution_count": 322,
   "metadata": {},
   "outputs": [
    {
     "data": {
      "text/plain": [
       "(404290, 22)"
      ]
     },
     "execution_count": 322,
     "metadata": {},
     "output_type": "execute_result"
    }
   ],
   "source": [
    "items.shape"
   ]
  },
  {
   "cell_type": "code",
   "execution_count": 323,
   "metadata": {},
   "outputs": [],
   "source": [
    "items_fa = pd.DataFrame(fa.transform(items), columns=fa.get_feature_names_out())"
   ]
  },
  {
   "cell_type": "code",
   "execution_count": 324,
   "metadata": {},
   "outputs": [
    {
     "data": {
      "text/plain": [
       "(404290, 6)"
      ]
     },
     "execution_count": 324,
     "metadata": {},
     "output_type": "execute_result"
    }
   ],
   "source": [
    "items_fa.shape"
   ]
  },
  {
   "cell_type": "code",
   "execution_count": 325,
   "metadata": {},
   "outputs": [
    {
     "data": {
      "text/html": [
       "<div>\n",
       "<style scoped>\n",
       "    .dataframe tbody tr th:only-of-type {\n",
       "        vertical-align: middle;\n",
       "    }\n",
       "\n",
       "    .dataframe tbody tr th {\n",
       "        vertical-align: top;\n",
       "    }\n",
       "\n",
       "    .dataframe thead th {\n",
       "        text-align: right;\n",
       "    }\n",
       "</style>\n",
       "<table border=\"1\" class=\"dataframe\">\n",
       "  <thead>\n",
       "    <tr style=\"text-align: right;\">\n",
       "      <th></th>\n",
       "      <th>pca0</th>\n",
       "      <th>pca1</th>\n",
       "      <th>pca2</th>\n",
       "      <th>pca3</th>\n",
       "      <th>pca4</th>\n",
       "      <th>pca5</th>\n",
       "    </tr>\n",
       "  </thead>\n",
       "  <tbody>\n",
       "    <tr>\n",
       "      <th>0</th>\n",
       "      <td>-7.216477e+18</td>\n",
       "      <td>-1.817440e+09</td>\n",
       "      <td>-2.072637e+09</td>\n",
       "      <td>-8.075487e+08</td>\n",
       "      <td>-9.208072e+08</td>\n",
       "      <td>-2.002852e+08</td>\n",
       "    </tr>\n",
       "    <tr>\n",
       "      <th>1</th>\n",
       "      <td>-6.451949e+17</td>\n",
       "      <td>-1.776870e+09</td>\n",
       "      <td>8.203862e+08</td>\n",
       "      <td>-1.007035e+09</td>\n",
       "      <td>1.502552e+09</td>\n",
       "      <td>4.775170e+08</td>\n",
       "    </tr>\n",
       "    <tr>\n",
       "      <th>2</th>\n",
       "      <td>7.630007e+18</td>\n",
       "      <td>1.989242e+09</td>\n",
       "      <td>3.333951e+08</td>\n",
       "      <td>1.540588e+09</td>\n",
       "      <td>-1.126090e+09</td>\n",
       "      <td>1.662494e+09</td>\n",
       "    </tr>\n",
       "    <tr>\n",
       "      <th>3</th>\n",
       "      <td>-2.011006e+18</td>\n",
       "      <td>5.144736e+08</td>\n",
       "      <td>-1.357251e+08</td>\n",
       "      <td>1.122725e+08</td>\n",
       "      <td>-4.919760e+08</td>\n",
       "      <td>-9.037420e+08</td>\n",
       "    </tr>\n",
       "    <tr>\n",
       "      <th>4</th>\n",
       "      <td>2.602318e+18</td>\n",
       "      <td>-4.952015e+08</td>\n",
       "      <td>1.874943e+09</td>\n",
       "      <td>-3.332738e+08</td>\n",
       "      <td>-2.015726e+09</td>\n",
       "      <td>1.667479e+09</td>\n",
       "    </tr>\n",
       "    <tr>\n",
       "      <th>...</th>\n",
       "      <td>...</td>\n",
       "      <td>...</td>\n",
       "      <td>...</td>\n",
       "      <td>...</td>\n",
       "      <td>...</td>\n",
       "      <td>...</td>\n",
       "    </tr>\n",
       "    <tr>\n",
       "      <th>404285</th>\n",
       "      <td>5.051280e+16</td>\n",
       "      <td>-1.271166e+09</td>\n",
       "      <td>1.712249e+09</td>\n",
       "      <td>7.155560e+08</td>\n",
       "      <td>-4.486102e+08</td>\n",
       "      <td>7.674508e+07</td>\n",
       "    </tr>\n",
       "    <tr>\n",
       "      <th>404286</th>\n",
       "      <td>8.955921e+18</td>\n",
       "      <td>9.492219e+08</td>\n",
       "      <td>-9.126796e+08</td>\n",
       "      <td>2.017212e+09</td>\n",
       "      <td>6.794487e+08</td>\n",
       "      <td>-6.465025e+08</td>\n",
       "    </tr>\n",
       "    <tr>\n",
       "      <th>404287</th>\n",
       "      <td>-1.577303e+18</td>\n",
       "      <td>-1.623213e+09</td>\n",
       "      <td>7.623165e+08</td>\n",
       "      <td>1.685340e+09</td>\n",
       "      <td>5.077527e+08</td>\n",
       "      <td>-6.538981e+08</td>\n",
       "    </tr>\n",
       "    <tr>\n",
       "      <th>404288</th>\n",
       "      <td>7.931033e+18</td>\n",
       "      <td>2.024973e+09</td>\n",
       "      <td>-4.623379e+08</td>\n",
       "      <td>-1.205218e+09</td>\n",
       "      <td>2.550467e+09</td>\n",
       "      <td>1.232005e+09</td>\n",
       "    </tr>\n",
       "    <tr>\n",
       "      <th>404289</th>\n",
       "      <td>-3.676163e+18</td>\n",
       "      <td>8.493727e+08</td>\n",
       "      <td>1.997139e+07</td>\n",
       "      <td>9.987974e+08</td>\n",
       "      <td>7.856131e+08</td>\n",
       "      <td>-1.522261e+09</td>\n",
       "    </tr>\n",
       "  </tbody>\n",
       "</table>\n",
       "<p>404290 rows × 6 columns</p>\n",
       "</div>"
      ],
      "text/plain": [
       "                pca0          pca1          pca2          pca3          pca4  \\\n",
       "0      -7.216477e+18 -1.817440e+09 -2.072637e+09 -8.075487e+08 -9.208072e+08   \n",
       "1      -6.451949e+17 -1.776870e+09  8.203862e+08 -1.007035e+09  1.502552e+09   \n",
       "2       7.630007e+18  1.989242e+09  3.333951e+08  1.540588e+09 -1.126090e+09   \n",
       "3      -2.011006e+18  5.144736e+08 -1.357251e+08  1.122725e+08 -4.919760e+08   \n",
       "4       2.602318e+18 -4.952015e+08  1.874943e+09 -3.332738e+08 -2.015726e+09   \n",
       "...              ...           ...           ...           ...           ...   \n",
       "404285  5.051280e+16 -1.271166e+09  1.712249e+09  7.155560e+08 -4.486102e+08   \n",
       "404286  8.955921e+18  9.492219e+08 -9.126796e+08  2.017212e+09  6.794487e+08   \n",
       "404287 -1.577303e+18 -1.623213e+09  7.623165e+08  1.685340e+09  5.077527e+08   \n",
       "404288  7.931033e+18  2.024973e+09 -4.623379e+08 -1.205218e+09  2.550467e+09   \n",
       "404289 -3.676163e+18  8.493727e+08  1.997139e+07  9.987974e+08  7.856131e+08   \n",
       "\n",
       "                pca5  \n",
       "0      -2.002852e+08  \n",
       "1       4.775170e+08  \n",
       "2       1.662494e+09  \n",
       "3      -9.037420e+08  \n",
       "4       1.667479e+09  \n",
       "...              ...  \n",
       "404285  7.674508e+07  \n",
       "404286 -6.465025e+08  \n",
       "404287 -6.538981e+08  \n",
       "404288  1.232005e+09  \n",
       "404289 -1.522261e+09  \n",
       "\n",
       "[404290 rows x 6 columns]"
      ]
     },
     "execution_count": 325,
     "metadata": {},
     "output_type": "execute_result"
    }
   ],
   "source": [
    "items_fa"
   ]
  },
  {
   "cell_type": "markdown",
   "metadata": {},
   "source": [
    "## SGDClassifier"
   ]
  },
  {
   "cell_type": "code",
   "execution_count": 326,
   "metadata": {},
   "outputs": [],
   "source": [
    "from sklearn.linear_model import SGDClassifier"
   ]
  },
  {
   "cell_type": "code",
   "execution_count": 327,
   "metadata": {},
   "outputs": [],
   "source": [
    "sgd = SGDClassifier(\n",
    "    loss='log_loss',\n",
    "    penalty='l2',\n",
    "    n_iter_no_change=80,\n",
    "    shuffle=True,\n",
    "    max_iter=10000,\n",
    "    warm_start=True\n",
    ")"
   ]
  },
  {
   "cell_type": "code",
   "execution_count": 328,
   "metadata": {},
   "outputs": [
    {
     "data": {
      "text/plain": [
       "array([0, 1])"
      ]
     },
     "execution_count": 328,
     "metadata": {},
     "output_type": "execute_result"
    }
   ],
   "source": [
    "np.unique(target)"
   ]
  },
  {
   "cell_type": "code",
   "execution_count": 329,
   "metadata": {},
   "outputs": [
    {
     "data": {
      "text/html": [
       "<style>#sk-container-id-12 {color: black;}#sk-container-id-12 pre{padding: 0;}#sk-container-id-12 div.sk-toggleable {background-color: white;}#sk-container-id-12 label.sk-toggleable__label {cursor: pointer;display: block;width: 100%;margin-bottom: 0;padding: 0.3em;box-sizing: border-box;text-align: center;}#sk-container-id-12 label.sk-toggleable__label-arrow:before {content: \"▸\";float: left;margin-right: 0.25em;color: #696969;}#sk-container-id-12 label.sk-toggleable__label-arrow:hover:before {color: black;}#sk-container-id-12 div.sk-estimator:hover label.sk-toggleable__label-arrow:before {color: black;}#sk-container-id-12 div.sk-toggleable__content {max-height: 0;max-width: 0;overflow: hidden;text-align: left;background-color: #f0f8ff;}#sk-container-id-12 div.sk-toggleable__content pre {margin: 0.2em;color: black;border-radius: 0.25em;background-color: #f0f8ff;}#sk-container-id-12 input.sk-toggleable__control:checked~div.sk-toggleable__content {max-height: 200px;max-width: 100%;overflow: auto;}#sk-container-id-12 input.sk-toggleable__control:checked~label.sk-toggleable__label-arrow:before {content: \"▾\";}#sk-container-id-12 div.sk-estimator input.sk-toggleable__control:checked~label.sk-toggleable__label {background-color: #d4ebff;}#sk-container-id-12 div.sk-label input.sk-toggleable__control:checked~label.sk-toggleable__label {background-color: #d4ebff;}#sk-container-id-12 input.sk-hidden--visually {border: 0;clip: rect(1px 1px 1px 1px);clip: rect(1px, 1px, 1px, 1px);height: 1px;margin: -1px;overflow: hidden;padding: 0;position: absolute;width: 1px;}#sk-container-id-12 div.sk-estimator {font-family: monospace;background-color: #f0f8ff;border: 1px dotted black;border-radius: 0.25em;box-sizing: border-box;margin-bottom: 0.5em;}#sk-container-id-12 div.sk-estimator:hover {background-color: #d4ebff;}#sk-container-id-12 div.sk-parallel-item::after {content: \"\";width: 100%;border-bottom: 1px solid gray;flex-grow: 1;}#sk-container-id-12 div.sk-label:hover label.sk-toggleable__label {background-color: #d4ebff;}#sk-container-id-12 div.sk-serial::before {content: \"\";position: absolute;border-left: 1px solid gray;box-sizing: border-box;top: 0;bottom: 0;left: 50%;z-index: 0;}#sk-container-id-12 div.sk-serial {display: flex;flex-direction: column;align-items: center;background-color: white;padding-right: 0.2em;padding-left: 0.2em;position: relative;}#sk-container-id-12 div.sk-item {position: relative;z-index: 1;}#sk-container-id-12 div.sk-parallel {display: flex;align-items: stretch;justify-content: center;background-color: white;position: relative;}#sk-container-id-12 div.sk-item::before, #sk-container-id-12 div.sk-parallel-item::before {content: \"\";position: absolute;border-left: 1px solid gray;box-sizing: border-box;top: 0;bottom: 0;left: 50%;z-index: -1;}#sk-container-id-12 div.sk-parallel-item {display: flex;flex-direction: column;z-index: 1;position: relative;background-color: white;}#sk-container-id-12 div.sk-parallel-item:first-child::after {align-self: flex-end;width: 50%;}#sk-container-id-12 div.sk-parallel-item:last-child::after {align-self: flex-start;width: 50%;}#sk-container-id-12 div.sk-parallel-item:only-child::after {width: 0;}#sk-container-id-12 div.sk-dashed-wrapped {border: 1px dashed gray;margin: 0 0.4em 0.5em 0.4em;box-sizing: border-box;padding-bottom: 0.4em;background-color: white;}#sk-container-id-12 div.sk-label label {font-family: monospace;font-weight: bold;display: inline-block;line-height: 1.2em;}#sk-container-id-12 div.sk-label-container {text-align: center;}#sk-container-id-12 div.sk-container {/* jupyter's `normalize.less` sets `[hidden] { display: none; }` but bootstrap.min.css set `[hidden] { display: none !important; }` so we also need the `!important` here to be able to override the default hidden behavior on the sphinx rendered scikit-learn.org. See: https://github.com/scikit-learn/scikit-learn/issues/21755 */display: inline-block !important;position: relative;}#sk-container-id-12 div.sk-text-repr-fallback {display: none;}</style><div id=\"sk-container-id-12\" class=\"sk-top-container\"><div class=\"sk-text-repr-fallback\"><pre>SGDClassifier(loss=&#x27;log_loss&#x27;, max_iter=10000, n_iter_no_change=80,\n",
       "              warm_start=True)</pre><b>In a Jupyter environment, please rerun this cell to show the HTML representation or trust the notebook. <br />On GitHub, the HTML representation is unable to render, please try loading this page with nbviewer.org.</b></div><div class=\"sk-container\" hidden><div class=\"sk-item\"><div class=\"sk-estimator sk-toggleable\"><input class=\"sk-toggleable__control sk-hidden--visually\" id=\"sk-estimator-id-12\" type=\"checkbox\" checked><label for=\"sk-estimator-id-12\" class=\"sk-toggleable__label sk-toggleable__label-arrow\">SGDClassifier</label><div class=\"sk-toggleable__content\"><pre>SGDClassifier(loss=&#x27;log_loss&#x27;, max_iter=10000, n_iter_no_change=80,\n",
       "              warm_start=True)</pre></div></div></div></div></div>"
      ],
      "text/plain": [
       "SGDClassifier(loss='log_loss', max_iter=10000, n_iter_no_change=80,\n",
       "              warm_start=True)"
      ]
     },
     "execution_count": 329,
     "metadata": {},
     "output_type": "execute_result"
    }
   ],
   "source": [
    "sgd.partial_fit(items_fa, target, classes=np.unique(target))"
   ]
  },
  {
   "cell_type": "markdown",
   "metadata": {},
   "source": [
    "### Test"
   ]
  },
  {
   "cell_type": "code",
   "execution_count": 330,
   "metadata": {},
   "outputs": [],
   "source": [
    "test = test_copy.copy()"
   ]
  },
  {
   "cell_type": "code",
   "execution_count": 331,
   "metadata": {},
   "outputs": [],
   "source": [
    "test = test.drop('hour', axis=1)"
   ]
  },
  {
   "cell_type": "code",
   "execution_count": 332,
   "metadata": {},
   "outputs": [],
   "source": [
    "test[\"site_domain\"] = test['site_domain'].apply(hex_to_int)\n",
    "test[\"app_domain\"] = test['app_domain'].apply(hex_to_int)\n",
    "test[\"device_id\"] = test['device_id'].apply(hex_to_int)\n",
    "test[\"device_model\"] = test['device_model'].apply(hex_to_int)\n",
    "test[\"site_id\"] = test['site_id'].apply(hex_to_int)\n",
    "test[\"app_id\"] = test['app_id'].apply(hex_to_int)\n",
    "test[\"device_ip\"] = test['device_ip'].apply(hex_to_int)"
   ]
  },
  {
   "cell_type": "code",
   "execution_count": 333,
   "metadata": {},
   "outputs": [],
   "source": [
    "test['site_category'] = test['site_category'].astype('category')\n",
    "test['site_category'] = test['site_category'].cat.codes\n",
    "\n",
    "test['app_category'] = test['app_category'].astype('category')\n",
    "test['app_category'] = test['app_category'].cat.codes"
   ]
  },
  {
   "cell_type": "code",
   "execution_count": 116,
   "metadata": {},
   "outputs": [],
   "source": [
    "# test = test.drop(['id', 'site_id', 'site_category', 'app_domain', 'device_id', 'device_ip', 'device_model', 'C18', 'C19'], axis=1)"
   ]
  },
  {
   "cell_type": "code",
   "execution_count": 335,
   "metadata": {},
   "outputs": [],
   "source": [
    "test[num] = scaled.transform(test[num])"
   ]
  },
  {
   "cell_type": "code",
   "execution_count": 336,
   "metadata": {},
   "outputs": [],
   "source": [
    "test_items_fa = pd.DataFrame(fa.transform(test), columns=fa.get_feature_names_out())"
   ]
  },
  {
   "cell_type": "code",
   "execution_count": 342,
   "metadata": {},
   "outputs": [],
   "source": [
    "predictions_test = sgd.predict_proba(test_items_fa)"
   ]
  },
  {
   "cell_type": "code",
   "execution_count": 343,
   "metadata": {},
   "outputs": [],
   "source": [
    "subission = pd.read_csv('sampleSubmission.csv')"
   ]
  },
  {
   "cell_type": "code",
   "execution_count": 344,
   "metadata": {},
   "outputs": [],
   "source": [
    "subission['click'] = predictions_test"
   ]
  },
  {
   "cell_type": "code",
   "execution_count": 348,
   "metadata": {},
   "outputs": [
    {
     "data": {
      "text/plain": [
       "1.0    2289176\n",
       "0.0    2288288\n",
       "Name: click, dtype: int64"
      ]
     },
     "execution_count": 348,
     "metadata": {},
     "output_type": "execute_result"
    }
   ],
   "source": [
    "subission['click'].value_counts()"
   ]
  },
  {
   "cell_type": "code",
   "execution_count": 350,
   "metadata": {},
   "outputs": [],
   "source": [
    "subission.to_csv('SGD+FA_submission.csv', index=False)"
   ]
  },
  {
   "cell_type": "markdown",
   "metadata": {
    "tags": []
   },
   "source": [
    "## SGDRegressor + FA"
   ]
  },
  {
   "cell_type": "code",
   "execution_count": 438,
   "metadata": {},
   "outputs": [],
   "source": [
    "from sklearn.linear_model import SGDRegressor"
   ]
  },
  {
   "cell_type": "code",
   "execution_count": 439,
   "metadata": {},
   "outputs": [],
   "source": [
    "sgr = SGDRegressor(\n",
    "    penalty='l2',\n",
    "    n_iter_no_change=80,\n",
    "    shuffle=True,\n",
    "    max_iter=5000,\n",
    "    warm_start=True\n",
    ")"
   ]
  },
  {
   "cell_type": "code",
   "execution_count": 440,
   "metadata": {},
   "outputs": [
    {
     "name": "stderr",
     "output_type": "stream",
     "text": [
      "/Users/kekgerman/opt/anaconda3/lib/python3.9/site-packages/sklearn/linear_model/_stochastic_gradient.py:1561: ConvergenceWarning: Maximum number of iteration reached before convergence. Consider increasing max_iter to improve the fit.\n",
      "  warnings.warn(\n"
     ]
    },
    {
     "data": {
      "text/html": [
       "<style>#sk-container-id-15 {color: black;}#sk-container-id-15 pre{padding: 0;}#sk-container-id-15 div.sk-toggleable {background-color: white;}#sk-container-id-15 label.sk-toggleable__label {cursor: pointer;display: block;width: 100%;margin-bottom: 0;padding: 0.3em;box-sizing: border-box;text-align: center;}#sk-container-id-15 label.sk-toggleable__label-arrow:before {content: \"▸\";float: left;margin-right: 0.25em;color: #696969;}#sk-container-id-15 label.sk-toggleable__label-arrow:hover:before {color: black;}#sk-container-id-15 div.sk-estimator:hover label.sk-toggleable__label-arrow:before {color: black;}#sk-container-id-15 div.sk-toggleable__content {max-height: 0;max-width: 0;overflow: hidden;text-align: left;background-color: #f0f8ff;}#sk-container-id-15 div.sk-toggleable__content pre {margin: 0.2em;color: black;border-radius: 0.25em;background-color: #f0f8ff;}#sk-container-id-15 input.sk-toggleable__control:checked~div.sk-toggleable__content {max-height: 200px;max-width: 100%;overflow: auto;}#sk-container-id-15 input.sk-toggleable__control:checked~label.sk-toggleable__label-arrow:before {content: \"▾\";}#sk-container-id-15 div.sk-estimator input.sk-toggleable__control:checked~label.sk-toggleable__label {background-color: #d4ebff;}#sk-container-id-15 div.sk-label input.sk-toggleable__control:checked~label.sk-toggleable__label {background-color: #d4ebff;}#sk-container-id-15 input.sk-hidden--visually {border: 0;clip: rect(1px 1px 1px 1px);clip: rect(1px, 1px, 1px, 1px);height: 1px;margin: -1px;overflow: hidden;padding: 0;position: absolute;width: 1px;}#sk-container-id-15 div.sk-estimator {font-family: monospace;background-color: #f0f8ff;border: 1px dotted black;border-radius: 0.25em;box-sizing: border-box;margin-bottom: 0.5em;}#sk-container-id-15 div.sk-estimator:hover {background-color: #d4ebff;}#sk-container-id-15 div.sk-parallel-item::after {content: \"\";width: 100%;border-bottom: 1px solid gray;flex-grow: 1;}#sk-container-id-15 div.sk-label:hover label.sk-toggleable__label {background-color: #d4ebff;}#sk-container-id-15 div.sk-serial::before {content: \"\";position: absolute;border-left: 1px solid gray;box-sizing: border-box;top: 0;bottom: 0;left: 50%;z-index: 0;}#sk-container-id-15 div.sk-serial {display: flex;flex-direction: column;align-items: center;background-color: white;padding-right: 0.2em;padding-left: 0.2em;position: relative;}#sk-container-id-15 div.sk-item {position: relative;z-index: 1;}#sk-container-id-15 div.sk-parallel {display: flex;align-items: stretch;justify-content: center;background-color: white;position: relative;}#sk-container-id-15 div.sk-item::before, #sk-container-id-15 div.sk-parallel-item::before {content: \"\";position: absolute;border-left: 1px solid gray;box-sizing: border-box;top: 0;bottom: 0;left: 50%;z-index: -1;}#sk-container-id-15 div.sk-parallel-item {display: flex;flex-direction: column;z-index: 1;position: relative;background-color: white;}#sk-container-id-15 div.sk-parallel-item:first-child::after {align-self: flex-end;width: 50%;}#sk-container-id-15 div.sk-parallel-item:last-child::after {align-self: flex-start;width: 50%;}#sk-container-id-15 div.sk-parallel-item:only-child::after {width: 0;}#sk-container-id-15 div.sk-dashed-wrapped {border: 1px dashed gray;margin: 0 0.4em 0.5em 0.4em;box-sizing: border-box;padding-bottom: 0.4em;background-color: white;}#sk-container-id-15 div.sk-label label {font-family: monospace;font-weight: bold;display: inline-block;line-height: 1.2em;}#sk-container-id-15 div.sk-label-container {text-align: center;}#sk-container-id-15 div.sk-container {/* jupyter's `normalize.less` sets `[hidden] { display: none; }` but bootstrap.min.css set `[hidden] { display: none !important; }` so we also need the `!important` here to be able to override the default hidden behavior on the sphinx rendered scikit-learn.org. See: https://github.com/scikit-learn/scikit-learn/issues/21755 */display: inline-block !important;position: relative;}#sk-container-id-15 div.sk-text-repr-fallback {display: none;}</style><div id=\"sk-container-id-15\" class=\"sk-top-container\"><div class=\"sk-text-repr-fallback\"><pre>SGDRegressor(max_iter=5000, n_iter_no_change=80, warm_start=True)</pre><b>In a Jupyter environment, please rerun this cell to show the HTML representation or trust the notebook. <br />On GitHub, the HTML representation is unable to render, please try loading this page with nbviewer.org.</b></div><div class=\"sk-container\" hidden><div class=\"sk-item\"><div class=\"sk-estimator sk-toggleable\"><input class=\"sk-toggleable__control sk-hidden--visually\" id=\"sk-estimator-id-15\" type=\"checkbox\" checked><label for=\"sk-estimator-id-15\" class=\"sk-toggleable__label sk-toggleable__label-arrow\">SGDRegressor</label><div class=\"sk-toggleable__content\"><pre>SGDRegressor(max_iter=5000, n_iter_no_change=80, warm_start=True)</pre></div></div></div></div></div>"
      ],
      "text/plain": [
       "SGDRegressor(max_iter=5000, n_iter_no_change=80, warm_start=True)"
      ]
     },
     "execution_count": 440,
     "metadata": {},
     "output_type": "execute_result"
    }
   ],
   "source": [
    "sgr.fit(items, target)"
   ]
  },
  {
   "cell_type": "markdown",
   "metadata": {},
   "source": [
    "### Test"
   ]
  },
  {
   "cell_type": "code",
   "execution_count": 448,
   "metadata": {},
   "outputs": [],
   "source": [
    "test = test_copy.copy()"
   ]
  },
  {
   "cell_type": "code",
   "execution_count": 449,
   "metadata": {},
   "outputs": [],
   "source": [
    "test = test.drop('hour', axis=1)"
   ]
  },
  {
   "cell_type": "code",
   "execution_count": 450,
   "metadata": {},
   "outputs": [],
   "source": [
    "test[\"site_domain\"] = test['site_domain'].apply(hex_to_int)\n",
    "test[\"app_domain\"] = test['app_domain'].apply(hex_to_int)\n",
    "test[\"device_id\"] = test['device_id'].apply(hex_to_int)\n",
    "test[\"device_model\"] = test['device_model'].apply(hex_to_int)\n",
    "test[\"site_id\"] = test['site_id'].apply(hex_to_int)\n",
    "test[\"app_id\"] = test['app_id'].apply(hex_to_int)\n",
    "test[\"device_ip\"] = test['device_ip'].apply(hex_to_int)"
   ]
  },
  {
   "cell_type": "code",
   "execution_count": 451,
   "metadata": {},
   "outputs": [],
   "source": [
    "test['site_category'] = test['site_category'].astype('category')\n",
    "test['site_category'] = test['site_category'].cat.codes\n",
    "\n",
    "test['app_category'] = test['app_category'].astype('category')\n",
    "test['app_category'] = test['app_category'].cat.codes"
   ]
  },
  {
   "cell_type": "code",
   "execution_count": 453,
   "metadata": {},
   "outputs": [],
   "source": [
    "test = test.drop(['id', 'site_id', 'site_category', 'app_domain', 'device_id', 'device_ip', 'device_model', 'C18', 'C19'], axis=1)"
   ]
  },
  {
   "cell_type": "code",
   "execution_count": 454,
   "metadata": {},
   "outputs": [],
   "source": [
    "test[num] = scaled.transform(test[num])"
   ]
  },
  {
   "cell_type": "code",
   "execution_count": 446,
   "metadata": {},
   "outputs": [],
   "source": [
    "# test_items_fa = pd.DataFrame(fa.transform(test), columns=fa.get_feature_names_out())"
   ]
  },
  {
   "cell_type": "code",
   "execution_count": 463,
   "metadata": {},
   "outputs": [],
   "source": [
    "predictions_test = sgr.predict(test)"
   ]
  },
  {
   "cell_type": "code",
   "execution_count": 456,
   "metadata": {},
   "outputs": [],
   "source": [
    "subission = pd.read_csv('sampleSubmission.csv')"
   ]
  },
  {
   "cell_type": "code",
   "execution_count": 457,
   "metadata": {},
   "outputs": [],
   "source": [
    "subission['click'] = predictions_test"
   ]
  },
  {
   "cell_type": "code",
   "execution_count": 467,
   "metadata": {},
   "outputs": [
    {
     "ename": "KeyError",
     "evalue": "\"None of [Float64Index([-1.0250472898713544e+27, -1.0166788393257458e+27,\\n              -1.0166788393257458e+27,  -6.284454975164498e+26,\\n               -7.596568900799665e+26,  -6.427516435221968e+26,\\n               -1.016678839325746e+27,   -5.83827482661922e+26,\\n                -9.09201742026546e+26, -1.0166788393257458e+27,\\n              ...\\n               -7.279207683026821e+26,  -7.542127999454295e+26,\\n               -9.339629926338142e+26, -1.0166788393257448e+27,\\n               -7.343216707724064e+26,  -7.094727808875785e+26,\\n              -1.0166788393257448e+27,  -7.094727808875785e+26,\\n               -7.435480874954006e+26, -1.0166788393257446e+27],\\n             dtype='float64', length=4577464)] are in the [columns]\"",
     "output_type": "error",
     "traceback": [
      "\u001b[0;31m---------------------------------------------------------------------------\u001b[0m",
      "\u001b[0;31mKeyError\u001b[0m                                  Traceback (most recent call last)",
      "Cell \u001b[0;32mIn[467], line 1\u001b[0m\n\u001b[0;32m----> 1\u001b[0m \u001b[43msubission\u001b[49m\u001b[43m[\u001b[49m\u001b[43msubission\u001b[49m\u001b[43m[\u001b[49m\u001b[38;5;124;43m'\u001b[39;49m\u001b[38;5;124;43mclick\u001b[39;49m\u001b[38;5;124;43m'\u001b[39;49m\u001b[43m]\u001b[49m\u001b[43m]\u001b[49m\n",
      "File \u001b[0;32m~/opt/anaconda3/lib/python3.9/site-packages/pandas/core/frame.py:3511\u001b[0m, in \u001b[0;36mDataFrame.__getitem__\u001b[0;34m(self, key)\u001b[0m\n\u001b[1;32m   3509\u001b[0m     \u001b[38;5;28;01mif\u001b[39;00m is_iterator(key):\n\u001b[1;32m   3510\u001b[0m         key \u001b[38;5;241m=\u001b[39m \u001b[38;5;28mlist\u001b[39m(key)\n\u001b[0;32m-> 3511\u001b[0m     indexer \u001b[38;5;241m=\u001b[39m \u001b[38;5;28;43mself\u001b[39;49m\u001b[38;5;241;43m.\u001b[39;49m\u001b[43mcolumns\u001b[49m\u001b[38;5;241;43m.\u001b[39;49m\u001b[43m_get_indexer_strict\u001b[49m\u001b[43m(\u001b[49m\u001b[43mkey\u001b[49m\u001b[43m,\u001b[49m\u001b[43m \u001b[49m\u001b[38;5;124;43m\"\u001b[39;49m\u001b[38;5;124;43mcolumns\u001b[39;49m\u001b[38;5;124;43m\"\u001b[39;49m\u001b[43m)\u001b[49m[\u001b[38;5;241m1\u001b[39m]\n\u001b[1;32m   3513\u001b[0m \u001b[38;5;66;03m# take() does not accept boolean indexers\u001b[39;00m\n\u001b[1;32m   3514\u001b[0m \u001b[38;5;28;01mif\u001b[39;00m \u001b[38;5;28mgetattr\u001b[39m(indexer, \u001b[38;5;124m\"\u001b[39m\u001b[38;5;124mdtype\u001b[39m\u001b[38;5;124m\"\u001b[39m, \u001b[38;5;28;01mNone\u001b[39;00m) \u001b[38;5;241m==\u001b[39m \u001b[38;5;28mbool\u001b[39m:\n",
      "File \u001b[0;32m~/opt/anaconda3/lib/python3.9/site-packages/pandas/core/indexes/base.py:5796\u001b[0m, in \u001b[0;36mIndex._get_indexer_strict\u001b[0;34m(self, key, axis_name)\u001b[0m\n\u001b[1;32m   5793\u001b[0m \u001b[38;5;28;01melse\u001b[39;00m:\n\u001b[1;32m   5794\u001b[0m     keyarr, indexer, new_indexer \u001b[38;5;241m=\u001b[39m \u001b[38;5;28mself\u001b[39m\u001b[38;5;241m.\u001b[39m_reindex_non_unique(keyarr)\n\u001b[0;32m-> 5796\u001b[0m \u001b[38;5;28;43mself\u001b[39;49m\u001b[38;5;241;43m.\u001b[39;49m\u001b[43m_raise_if_missing\u001b[49m\u001b[43m(\u001b[49m\u001b[43mkeyarr\u001b[49m\u001b[43m,\u001b[49m\u001b[43m \u001b[49m\u001b[43mindexer\u001b[49m\u001b[43m,\u001b[49m\u001b[43m \u001b[49m\u001b[43maxis_name\u001b[49m\u001b[43m)\u001b[49m\n\u001b[1;32m   5798\u001b[0m keyarr \u001b[38;5;241m=\u001b[39m \u001b[38;5;28mself\u001b[39m\u001b[38;5;241m.\u001b[39mtake(indexer)\n\u001b[1;32m   5799\u001b[0m \u001b[38;5;28;01mif\u001b[39;00m \u001b[38;5;28misinstance\u001b[39m(key, Index):\n\u001b[1;32m   5800\u001b[0m     \u001b[38;5;66;03m# GH 42790 - Preserve name from an Index\u001b[39;00m\n",
      "File \u001b[0;32m~/opt/anaconda3/lib/python3.9/site-packages/pandas/core/indexes/base.py:5856\u001b[0m, in \u001b[0;36mIndex._raise_if_missing\u001b[0;34m(self, key, indexer, axis_name)\u001b[0m\n\u001b[1;32m   5854\u001b[0m     \u001b[38;5;28;01mif\u001b[39;00m use_interval_msg:\n\u001b[1;32m   5855\u001b[0m         key \u001b[38;5;241m=\u001b[39m \u001b[38;5;28mlist\u001b[39m(key)\n\u001b[0;32m-> 5856\u001b[0m     \u001b[38;5;28;01mraise\u001b[39;00m \u001b[38;5;167;01mKeyError\u001b[39;00m(\u001b[38;5;124mf\u001b[39m\u001b[38;5;124m\"\u001b[39m\u001b[38;5;124mNone of [\u001b[39m\u001b[38;5;132;01m{\u001b[39;00mkey\u001b[38;5;132;01m}\u001b[39;00m\u001b[38;5;124m] are in the [\u001b[39m\u001b[38;5;132;01m{\u001b[39;00maxis_name\u001b[38;5;132;01m}\u001b[39;00m\u001b[38;5;124m]\u001b[39m\u001b[38;5;124m\"\u001b[39m)\n\u001b[1;32m   5858\u001b[0m not_found \u001b[38;5;241m=\u001b[39m \u001b[38;5;28mlist\u001b[39m(ensure_index(key)[missing_mask\u001b[38;5;241m.\u001b[39mnonzero()[\u001b[38;5;241m0\u001b[39m]]\u001b[38;5;241m.\u001b[39munique())\n\u001b[1;32m   5859\u001b[0m \u001b[38;5;28;01mraise\u001b[39;00m \u001b[38;5;167;01mKeyError\u001b[39;00m(\u001b[38;5;124mf\u001b[39m\u001b[38;5;124m\"\u001b[39m\u001b[38;5;132;01m{\u001b[39;00mnot_found\u001b[38;5;132;01m}\u001b[39;00m\u001b[38;5;124m not in index\u001b[39m\u001b[38;5;124m\"\u001b[39m)\n",
      "\u001b[0;31mKeyError\u001b[0m: \"None of [Float64Index([-1.0250472898713544e+27, -1.0166788393257458e+27,\\n              -1.0166788393257458e+27,  -6.284454975164498e+26,\\n               -7.596568900799665e+26,  -6.427516435221968e+26,\\n               -1.016678839325746e+27,   -5.83827482661922e+26,\\n                -9.09201742026546e+26, -1.0166788393257458e+27,\\n              ...\\n               -7.279207683026821e+26,  -7.542127999454295e+26,\\n               -9.339629926338142e+26, -1.0166788393257448e+27,\\n               -7.343216707724064e+26,  -7.094727808875785e+26,\\n              -1.0166788393257448e+27,  -7.094727808875785e+26,\\n               -7.435480874954006e+26, -1.0166788393257446e+27],\\n             dtype='float64', length=4577464)] are in the [columns]\""
     ]
    }
   ],
   "source": [
    "subission[subission['click']]"
   ]
  },
  {
   "cell_type": "code",
   "execution_count": 395,
   "metadata": {},
   "outputs": [],
   "source": [
    "subission.to_csv('SGDR+FA_submission.csv', index=False)"
   ]
  },
  {
   "cell_type": "code",
   "execution_count": null,
   "metadata": {},
   "outputs": [],
   "source": []
  },
  {
   "cell_type": "code",
   "execution_count": null,
   "metadata": {},
   "outputs": [],
   "source": []
  },
  {
   "cell_type": "markdown",
   "metadata": {
    "tags": []
   },
   "source": [
    "## CatBoostClassifier"
   ]
  },
  {
   "cell_type": "code",
   "execution_count": null,
   "metadata": {},
   "outputs": [
    {
     "name": "stdout",
     "output_type": "stream",
     "text": [
      "Collecting package metadata (current_repodata.json): - WARNING conda.models.version:get_matcher(544): Using .* with relational operator is superfluous and deprecated and will be removed in a future version of conda. Your spec was 1.7.1.*, but conda is ignoring the .* and treating it as 1.7.1\n",
      "done\n",
      "Solving environment: - \n",
      "The environment is inconsistent, please check the package plan carefully\n",
      "The following packages are causing the inconsistency:\n",
      "\n",
      "  - defaults/osx-64::holoviews==1.15.0=py39hecd8cb5_0\n",
      "  - defaults/noarch::conda-pack==0.6.0=pyhd3eb1b0_0\n",
      "  - defaults/noarch::arrow==1.2.2=pyhd3eb1b0_0\n",
      "  - defaults/noarch::requests-file==1.5.1=pyhd3eb1b0_0\n",
      "  - defaults/osx-64::botocore==1.27.28=py39hecd8cb5_0\n",
      "  - defaults/osx-64::bottleneck==1.3.5=py39h67323c0_0\n",
      "  - defaults/osx-64::astroid==2.11.7=py39hecd8cb5_0\n",
      "  - defaults/noarch::nbclassic==0.3.5=pyhd3eb1b0_0\n",
      "  - defaults/noarch::cookiecutter==1.7.3=pyhd3eb1b0_0\n",
      "  - defaults/osx-64::anaconda-project==0.11.1=py39hecd8cb5_0\n",
      "  - defaults/noarch::argon2-cffi==21.3.0=pyhd3eb1b0_0\n",
      "  - defaults/osx-64::datashape==0.5.4=py39hecd8cb5_1\n",
      "  - defaults/osx-64::boto3==1.24.28=py39hecd8cb5_0\n",
      "  - defaults/osx-64::mkl_random==1.2.2=py39hb2f4e1b_0\n",
      "  - defaults/noarch::backports.functools_lru_cache==1.6.4=pyhd3eb1b0_0\n",
      "  - defaults/osx-64::sip==6.6.2=py39he9d5cce_0\n",
      "  - defaults/osx-64::numexpr==2.8.3=py39h2e5f0a9_0\n",
      "  - defaults/osx-64::imagecodecs==2021.8.26=py39h0f85e6e_1\n",
      "  - defaults/osx-64::matplotlib-inline==0.1.6=py39hecd8cb5_0\n",
      "  - defaults/noarch::pyls-spyder==0.4.0=pyhd3eb1b0_0\n",
      "  - defaults/osx-64::h5py==3.7.0=py39h4a1dd59_0\n",
      "  - defaults/osx-64::setuptools==63.4.1=py39hecd8cb5_0\n",
      "  - defaults/osx-64::pywavelets==1.3.0=py39hca72f7f_0\n",
      "  - defaults/osx-64::scikit-learn-intelex==2021.6.0=py39hecd8cb5_0\n",
      "  - defaults/osx-64::numpy==1.21.5=py39h2e5f0a9_3\n",
      "  - defaults/osx-64::jupyterlab==3.4.4=py39hecd8cb5_0\n",
      "  - defaults/osx-64::xlwings==0.27.15=py39hecd8cb5_0\n",
      "  - defaults/osx-64::datashader==0.14.1=py39hecd8cb5_0\n",
      "  - defaults/osx-64::anaconda==2022.10=py39_0\n",
      "  - defaults/osx-64::nbclient==0.5.13=py39hecd8cb5_0\n",
      "  - defaults/osx-64::scrapy==2.6.2=py39hecd8cb5_0\n",
      "  - defaults/osx-64::matplotlib==3.5.2=py39hecd8cb5_0\n",
      "  - defaults/osx-64::hvplot==0.8.0=py39hecd8cb5_0\n",
      "  - defaults/noarch::nltk==3.7=pyhd3eb1b0_0\n",
      "  - defaults/osx-64::python-lsp-black==1.2.1=py39hecd8cb5_0\n",
      "  - defaults/osx-64::pytest==7.1.2=py39hecd8cb5_0\n",
      "  - defaults/osx-64::pyqtwebengine==5.15.7=py39he9d5cce_0\n",
      "  - defaults/osx-64::bkcharts==0.2=py39hecd8cb5_1\n",
      "  - defaults/osx-64::qtconsole==5.3.2=py39hecd8cb5_0\n",
      "  - defaults/osx-64::patsy==0.5.2=py39hecd8cb5_1\n",
      "  - defaults/osx-64::conda-build==3.22.0=py39hecd8cb5_0\n",
      "  - defaults/osx-64::qtpy==2.2.0=py39hecd8cb5_0\n",
      "  - defaults/osx-64::sphinx==5.0.2=py39hecd8cb5_0\n",
      "  - defaults/osx-64::anaconda-navigator==2.3.2=py39hecd8cb5_0\n",
      "  - defaults/osx-64::bcrypt==3.2.0=py39hca72f7f_1\n",
      "  - defaults/osx-64::_ipyw_jlab_nb_ext_conf==0.1.0=py39hecd8cb5_1\n",
      "  - defaults/noarch::prompt_toolkit==3.0.20=hd3eb1b0_0\n",
      "  - defaults/noarch::conda-verify==3.4.2=py_1\n",
      "  - defaults/osx-64::python-lsp-server==1.5.0=py39hecd8cb5_0\n",
      "  - defaults/osx-64::statsmodels==0.13.2=py39hca72f7f_0\n",
      "  - defaults/osx-64::pylint==2.14.5=py39hecd8cb5_0\n",
      "  - defaults/osx-64::dask==2022.7.0=py39hecd8cb5_0\n",
      "  - defaults/noarch::jupyterlab_pygments==0.1.2=py_0\n",
      "  - defaults/osx-64::jupyter_server==1.18.1=py39hecd8cb5_0\n",
      "  - defaults/noarch::jinja2-time==0.2.0=pyhd3eb1b0_3\n",
      "  - defaults/osx-64::anaconda-client==1.11.0=py39hecd8cb5_0\n",
      "  - defaults/osx-64::spyder-kernels==2.3.3=py39hecd8cb5_0\n",
      "  - defaults/noarch::jupyterlab_server==2.10.3=pyhd3eb1b0_1\n",
      "  - defaults/osx-64::nbconvert==6.4.4=py39hecd8cb5_0\n",
      "  - defaults/osx-64::gensim==4.1.2=py39he9d5cce_0\n",
      "  - defaults/osx-64::numpydoc==1.4.0=py39hecd8cb5_0\n",
      "  - defaults/noarch::bleach==4.1.0=pyhd3eb1b0_0\n",
      "  - defaults/osx-64::zope.interface==5.4.0=py39h9ed2024_0\n",
      "  - defaults/osx-64::numba==0.55.1=py39hae1ba45_0\n",
      "  - defaults/osx-64::nbformat==5.5.0=py39hecd8cb5_0\n",
      "  - defaults/osx-64::s3transfer==0.6.0=py39hecd8cb5_0\n",
      "  - defaults/osx-64::pytables==3.6.1=py39h648f197_1\n",
      "  - defaults/noarch::flask==1.1.2=pyhd3eb1b0_0\n",
      "  - defaults/noarch::intake==0.6.5=pyhd3eb1b0_0\n",
      "  - defaults/noarch::hyperlink==21.0.0=pyhd3eb1b0_0\n",
      "  - defaults/osx-64::pandas==1.4.4=py39he9d5cce_0\n",
      "  - defaults/noarch::qtawesome==1.0.3=pyhd3eb1b0_0\n",
      "  - defaults/osx-64::dask-core==2022.7.0=py39hecd8cb5_0\n",
      "  - defaults/osx-64::pyerfa==2.0.0=py39h9ed2024_0\n",
      "  - defaults/osx-64::conda==22.11.1=py39hecd8cb5_3\n",
      "  - defaults/osx-64::navigator-updater==0.3.0=py39hecd8cb5_0\n",
      "  - defaults/osx-64::anyio==3.5.0=py39hecd8cb5_0\n",
      "  - defaults/osx-64::distributed==2022.7.0=py39hecd8cb5_0\n",
      "  - defaults/osx-64::jupyter==1.0.0=py39hecd8cb5_8\n",
      "  - defaults/noarch::ipywidgets==7.6.5=pyhd3eb1b0_1\n",
      "  - defaults/noarch::jupyter_console==6.4.3=pyhd3eb1b0_0\n",
      "  - defaults/osx-64::bokeh==2.4.3=py39hecd8cb5_0\n",
      "  - defaults/osx-64::pip==22.2.2=py39hecd8cb5_0\n",
      "  - defaults/osx-64::colorcet==3.0.0=py39hecd8cb5_0\n",
      "  - defaults/osx-64::twisted==22.2.0=py39hca72f7f_1\n",
      "  - defaults/osx-64::mkl_fft==1.3.1=py39h4ab4a9b_0\n",
      "  - defaults/osx-64::conda-repo-cli==1.0.20=py39hecd8cb5_0\n",
      "  - defaults/osx-64::astropy==5.1=py39h67323c0_0\n",
      "  - defaults/osx-64::pyct==0.4.8=py39hecd8cb5_1\n",
      "  - defaults/osx-64::pyqt5-sip==12.11.0=py39he9d5cce_0\n",
      "  - defaults/noarch::seaborn==0.11.2=pyhd3eb1b0_0\n",
      "  - defaults/osx-64::pyqt==5.15.7=py39he9d5cce_0\n",
      "  - defaults/noarch::conda-token==0.4.0=pyhd3eb1b0_0\n",
      "  - defaults/osx-64::black==22.6.0=py39hecd8cb5_0\n",
      "  - defaults/osx-64::typing-extensions==4.3.0=py39hecd8cb5_0\n",
      "  - defaults/osx-64::spyder==5.3.3=py39hecd8cb5_0\n",
      "  - defaults/osx-64::notebook==6.4.12=py39hecd8cb5_0\n",
      "  - defaults/osx-64::panel==0.13.1=py39hecd8cb5_0\n",
      "  - defaults/osx-64::widgetsnbextension==3.5.2=py39hecd8cb5_0\n",
      "  - defaults/osx-64::terminado==0.13.1=py39hecd8cb5_0\n",
      "  - defaults/osx-64::clyent==1.2.2=py39hecd8cb5_1\n",
      "  - defaults/noarch::tldextract==3.2.0=pyhd3eb1b0_0\n",
      "  - defaults/osx-64::daal4py==2021.6.0=py39h01d92e1_1\n",
      "  - defaults/noarch::xarray==0.20.1=pyhd3eb1b0_1\n",
      "  - defaults/osx-64::watchdog==2.1.6=py39h999c104_0\n",
      "failed with initial frozen solve. Retrying with flexible solve.\n",
      "Solving environment: \\ "
     ]
    }
   ],
   "source": [
    "!conda install -c \"conda-forge/label/cf201901\" catboost"
   ]
  },
  {
   "cell_type": "code",
   "execution_count": 134,
   "metadata": {},
   "outputs": [
    {
     "ename": "ModuleNotFoundError",
     "evalue": "No module named 'catboost'",
     "output_type": "error",
     "traceback": [
      "\u001b[0;31m---------------------------------------------------------------------------\u001b[0m",
      "\u001b[0;31mModuleNotFoundError\u001b[0m                       Traceback (most recent call last)",
      "Cell \u001b[0;32mIn[134], line 1\u001b[0m\n\u001b[0;32m----> 1\u001b[0m \u001b[38;5;28;01mfrom\u001b[39;00m \u001b[38;5;21;01mcatboost\u001b[39;00m \u001b[38;5;28;01mimport\u001b[39;00m CatBoostClassifier\n",
      "\u001b[0;31mModuleNotFoundError\u001b[0m: No module named 'catboost'"
     ]
    }
   ],
   "source": [
    "from catboost import CatBoostClassifier"
   ]
  },
  {
   "cell_type": "code",
   "execution_count": 130,
   "metadata": {},
   "outputs": [
    {
     "ename": "NameError",
     "evalue": "name 'CatBoostClassifier' is not defined",
     "output_type": "error",
     "traceback": [
      "\u001b[0;31m---------------------------------------------------------------------------\u001b[0m",
      "\u001b[0;31mNameError\u001b[0m                                 Traceback (most recent call last)",
      "Cell \u001b[0;32mIn[130], line 1\u001b[0m\n\u001b[0;32m----> 1\u001b[0m cat \u001b[38;5;241m=\u001b[39m \u001b[43mCatBoostClassifier\u001b[49m(\n\u001b[1;32m      2\u001b[0m     iterations\u001b[38;5;241m=\u001b[39m\u001b[38;5;241m1000\u001b[39m, \n\u001b[1;32m      3\u001b[0m     learning_rate\u001b[38;5;241m=\u001b[39m\u001b[38;5;241m0.1\u001b[39m,\n\u001b[1;32m      4\u001b[0m     depth\u001b[38;5;241m=\u001b[39m\u001b[38;5;241m6\u001b[39m,\n\u001b[1;32m      5\u001b[0m     l2_leaf_reg\u001b[38;5;241m=\u001b[39m\u001b[38;5;241m3.0\u001b[39m,\n\u001b[1;32m      6\u001b[0m     border_count\u001b[38;5;241m=\u001b[39m\u001b[38;5;241m128\u001b[39m,\n\u001b[1;32m      7\u001b[0m     cat_features\u001b[38;5;241m=\u001b[39m[\u001b[38;5;241m0\u001b[39m, \u001b[38;5;241m1\u001b[39m, \u001b[38;5;241m2\u001b[39m],\n\u001b[1;32m      8\u001b[0m     eval_metric\u001b[38;5;241m=\u001b[39m\u001b[38;5;124m'\u001b[39m\u001b[38;5;124mLogloss\u001b[39m\u001b[38;5;124m'\u001b[39m,\n\u001b[1;32m      9\u001b[0m     custom_metric\u001b[38;5;241m=\u001b[39m[\u001b[38;5;124m'\u001b[39m\u001b[38;5;124mAUC\u001b[39m\u001b[38;5;124m'\u001b[39m]\n\u001b[1;32m     10\u001b[0m )\n",
      "\u001b[0;31mNameError\u001b[0m: name 'CatBoostClassifier' is not defined"
     ]
    }
   ],
   "source": [
    "cat = CatBoostClassifier(\n",
    "    iterations=1000, \n",
    "    learning_rate=0.1,\n",
    "    depth=6,\n",
    "    l2_leaf_reg=3.0,\n",
    "    border_count=128,\n",
    "    cat_features=[0, 1, 2],\n",
    "    eval_metric='Logloss',\n",
    "    custom_metric=['AUC']\n",
    ")"
   ]
  },
  {
   "cell_type": "code",
   "execution_count": 128,
   "metadata": {},
   "outputs": [
    {
     "ename": "AttributeError",
     "evalue": "'list' object has no attribute 'fit'",
     "output_type": "error",
     "traceback": [
      "\u001b[0;31m---------------------------------------------------------------------------\u001b[0m",
      "\u001b[0;31mAttributeError\u001b[0m                            Traceback (most recent call last)",
      "Cell \u001b[0;32mIn[128], line 1\u001b[0m\n\u001b[0;32m----> 1\u001b[0m \u001b[43mcat\u001b[49m\u001b[38;5;241;43m.\u001b[39;49m\u001b[43mfit\u001b[49m(X_train, Y_train)\n",
      "\u001b[0;31mAttributeError\u001b[0m: 'list' object has no attribute 'fit'"
     ]
    }
   ],
   "source": [
    "cat.fit(X_train, Y_train)"
   ]
  },
  {
   "cell_type": "code",
   "execution_count": null,
   "metadata": {},
   "outputs": [],
   "source": []
  }
 ],
 "metadata": {
  "colab": {
   "provenance": []
  },
  "kernelspec": {
   "display_name": "Python 3 (ipykernel)",
   "language": "python",
   "name": "python3"
  },
  "language_info": {
   "codemirror_mode": {
    "name": "ipython",
    "version": 3
   },
   "file_extension": ".py",
   "mimetype": "text/x-python",
   "name": "python",
   "nbconvert_exporter": "python",
   "pygments_lexer": "ipython3",
   "version": "3.9.13"
  },
  "toc-showcode": false
 },
 "nbformat": 4,
 "nbformat_minor": 4
}
