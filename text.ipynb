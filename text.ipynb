{
 "cells": [
  {
   "cell_type": "code",
   "execution_count": null,
   "id": "942b6aaa-fbac-49dc-aaf5-c76f2aa3cb08",
   "metadata": {},
   "outputs": [],
   "source": [
    "from sklearn.feature_extraction.text import TfidfVectorizer\n",
    "from sklearn.model_selection import train_test_split\n",
    "from sklearn.naive_bayes import MultinomialNB\n",
    "from sklearn.metrics import accuracy_score\n",
    "\n",
    "# Пример данных для обучения (ваш набор данных должен быть подобным)\n",
    "text_data = [\"Реклама 1: Отличные скидки на продукцию!\",\n",
    "             \"Реклама 2: Уникальные предложения для вас!\",\n",
    "             \"Реклама 3: Бесплатная доставка при заказе от 1000 рублей.\",\n",
    "             \"Реклама 4: Специальные акции только сегодня!\"]\n",
    "\n",
    "# Соответствующие метки CTR (1 - был клик, 0 - не было клика)\n",
    "ctr_labels = [1, 0, 1, 0]\n",
    "\n",
    "# Разделение данных на обучающий и тестовый наборы\n",
    "X_train, X_test, y_train, y_test = train_test_split(text_data, ctr_labels, test_size=0.2, random_state=42)\n",
    "\n",
    "# Преобразование текста в числовой вектор с использованием TF-IDF\n",
    "vectorizer = TfidfVectorizer()\n",
    "X_train_tfidf = vectorizer.fit_transform(X_train)\n",
    "X_test_tfidf = vectorizer.transform(X_test)\n",
    "\n",
    "# Использование наивного байесовского классификатора для предсказания CTR\n",
    "clf = MultinomialNB()\n",
    "clf.fit(X_train_tfidf, y_train)\n",
    "\n",
    "# Предсказание на тестовом наборе\n",
    "y_pred = clf.predict(X_test_tfidf)\n",
    "\n",
    "# Оценка точности предсказаний\n",
    "accuracy = accuracy_score(y_test, y_pred)\n",
    "print(f\"Accuracy: {accuracy}\")"
   ]
  }
 ],
 "metadata": {
  "kernelspec": {
   "display_name": "Python 3 (ipykernel)",
   "language": "python",
   "name": "python3"
  },
  "language_info": {
   "codemirror_mode": {
    "name": "ipython",
    "version": 3
   },
   "file_extension": ".py",
   "mimetype": "text/x-python",
   "name": "python",
   "nbconvert_exporter": "python",
   "pygments_lexer": "ipython3",
   "version": "3.9.13"
  }
 },
 "nbformat": 4,
 "nbformat_minor": 5
}
