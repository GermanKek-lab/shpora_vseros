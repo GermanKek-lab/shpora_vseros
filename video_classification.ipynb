{
 "cells": [
  {
   "cell_type": "code",
   "execution_count": null,
   "id": "2b338607-7a8c-4b2f-b046-48049158a85f",
   "metadata": {},
   "outputs": [],
   "source": [
    "import torch\n",
    "import torch.nn as nn\n",
    "import torch.optim as optim\n",
    "from torch.utils.data import DataLoader\n",
    "from torchvision import transforms, models\n",
    "from torchvision.io import read_video\n",
    "from torchvision.datasets import VideoDataset\n",
    "from torch.utils.data import random_split"
   ]
  },
  {
   "cell_type": "code",
   "execution_count": null,
   "id": "77582a93-8a64-4f9d-a10c-0cc26f9c29f6",
   "metadata": {},
   "outputs": [],
   "source": [
    "batch_size = 4\n",
    "learning_rate = 1e-3\n",
    "num_epochs = 10\n",
    "num_classes = 1"
   ]
  },
  {
   "cell_type": "code",
   "execution_count": null,
   "id": "abe1100c-f48e-4b0a-9d7e-d20e5aa91aa1",
   "metadata": {},
   "outputs": [],
   "source": [
    "def video_loader(path):\n",
    "    \n",
    "    video, _, _ = read_video(path)\n",
    "    video = video[::5]\n",
    "    video = torch.stack([transform(frame) for frame in video])\n",
    "    \n",
    "    return video"
   ]
  },
  {
   "cell_type": "code",
   "execution_count": null,
   "id": "7a292c29-3fa5-457f-8a0c-3e0f95549ef3",
   "metadata": {},
   "outputs": [],
   "source": [
    "transform = transforms.Compose([\n",
    "        transforms.Resize((224, 224)),\n",
    "        transforms.ToTensor(),\n",
    "        transforms.Normalize(mean=[0.485, 0.456, 0.406], std=[0.229, 0.224, 0.225]),\n",
    "    ])"
   ]
  },
  {
   "cell_type": "code",
   "execution_count": null,
   "id": "67309ebb-2d60-4a4d-9bb7-39becb263c16",
   "metadata": {},
   "outputs": [],
   "source": [
    "class CustomVideoDataset(VideoDataset):\n",
    "    \n",
    "    def __init__(self, video_paths, labels, transform=None):\n",
    "        self.video_paths = video_paths\n",
    "        self.labels = labels\n",
    "        self.transform = transform\n",
    "\n",
    "    def __len__(self):\n",
    "        return len(self.video_paths)\n",
    "\n",
    "    def __getitem__(self, idx):\n",
    "        video = video_loader(self.video_paths[idx])\n",
    "        label = self.labels[idx]\n",
    "        \n",
    "        return video, label\n"
   ]
  },
  {
   "cell_type": "code",
   "execution_count": null,
   "id": "0f21612b-019e-480d-a90e-8d51ddcd4f01",
   "metadata": {},
   "outputs": [],
   "source": [
    "dataset = CustomVideoDataset(video_paths, labels, transform=transform)"
   ]
  },
  {
   "cell_type": "code",
   "execution_count": null,
   "id": "592c8621-c568-40db-bcd9-39c4fbce3234",
   "metadata": {},
   "outputs": [],
   "source": [
    "train_size = int(0.8 * len(dataset))\n",
    "val_size = len(dataset) - train_size\n",
    "train_dataset, val_dataset = random_split(dataset, [train_size, val_size])"
   ]
  },
  {
   "cell_type": "code",
   "execution_count": null,
   "id": "370d1a76-9253-4358-879f-52c7f0b0a9c2",
   "metadata": {},
   "outputs": [],
   "source": [
    "class VideoClassifier(nn.Module):\n",
    "    \n",
    "    def __init__(self, num_classes):\n",
    "        super(VideoClassifier, self).__init__()\n",
    "            self.resnet = models.resnet50(pretrained=True)\n",
    "            self.resnet.fc = nn.Linear(self.resnet.fc.in_features, num_classes)\n",
    "            self.lstm = nn.LSTM(input_size=num_classes, hidden_size=128, num_layers=1, batch_first=True)\n",
    "            self.fc = nn.Linear(128, num_classes)\n",
    "\n",
    "        def forward(self, x):\n",
    "            # x.size() = (batch_size, num_frames, C, H, W)\n",
    "            batch_size, num_frames, C, H, W = x.size()\n",
    "            x = x.view(batch_size * num_frames, C, H, W)\n",
    "            x = self.resnet(x)\n",
    "            x = x.view(batch_size, num_frames, -1)\n",
    "            x, _ = self.lstm(x)\n",
    "            x = self.fc(x[:, -1, :])\n",
    "            \n",
    "            return x"
   ]
  }
 ],
 "metadata": {
  "kernelspec": {
   "display_name": "Python 3 (ipykernel)",
   "language": "python",
   "name": "python3"
  },
  "language_info": {
   "codemirror_mode": {
    "name": "ipython",
    "version": 3
   },
   "file_extension": ".py",
   "mimetype": "text/x-python",
   "name": "python",
   "nbconvert_exporter": "python",
   "pygments_lexer": "ipython3",
   "version": "3.9.13"
  }
 },
 "nbformat": 4,
 "nbformat_minor": 5
}
